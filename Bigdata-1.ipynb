{
 "cells": [
  {
   "cell_type": "code",
   "execution_count": 1,
   "id": "9a09313d-b027-417f-85ab-18fd901af73a",
   "metadata": {},
   "outputs": [
    {
     "name": "stdout",
     "output_type": "stream",
     "text": [
      "After swapping using a third variable:\n",
      "Hirst_num = 20\n",
      "second_num = 10\n"
     ]
    }
   ],
   "source": [
    "# 1\n",
    "\n",
    "Hirst_num = 10\n",
    "second_num = 20\n",
    "\n",
    "#swapping using a third variable\n",
    "temp = Hirst_num\n",
    "Hirst_num = second_num\n",
    "second_num = temp\n",
    "\n",
    "print(\"After swapping using a third variable:\")\n",
    "print(\"Hirst_num =\", Hirst_num)\n",
    "print(\"second_num =\", second_num)"
   ]
  },
  {
   "cell_type": "code",
   "execution_count": 2,
   "id": "7387dbed-b6eb-4d4a-bab9-0fed1f94867f",
   "metadata": {},
   "outputs": [
    {
     "name": "stdout",
     "output_type": "stream",
     "text": [
      "After swapping without using a third variable:\n",
      "Hirst_num = 20\n",
      "second_num = 10\n"
     ]
    }
   ],
   "source": [
    "Hirst_num = 10\n",
    "second_num = 20\n",
    "\n",
    "#swapping without using a third variable\n",
    "Hirst_num, second_num = second_num, Hirst_num\n",
    "\n",
    "print(\"After swapping without using a third variable:\")\n",
    "print(\"Hirst_num =\", Hirst_num)\n",
    "print(\"second_num =\",second_num)"
   ]
  },
  {
   "cell_type": "code",
   "execution_count": null,
   "id": "dca89a92-79f7-481d-8599-7f3c109fc224",
   "metadata": {},
   "outputs": [],
   "source": []
  },
  {
   "cell_type": "code",
   "execution_count": 6,
   "id": "edf418d0-ac6c-4873-b468-7ea3f354c84c",
   "metadata": {},
   "outputs": [
    {
     "name": "stdout",
     "output_type": "stream",
     "text": [
      "3\n",
      "3\n"
     ]
    }
   ],
   "source": [
    "#3\n",
    "\n",
    "def count_because(s):\n",
    "    # convert the string to lowercase for case - insensitive comparison\n",
    "    s_lower = s.lower()\n",
    "    # split the string into words and count the occurences of 'because'\n",
    "    count = s_lower.split().count('because')\n",
    "    return count\n",
    "\n",
    "# example usage\n",
    "input1 = 'You cannot end a sentence with because because because is a conjunction.'\n",
    "output1 = count_because(input1)\n",
    "print(output1) # Output:3\n",
    "\n",
    "input2 = 'You cannot end a sentence with Because because Because is a conjunction.'\n",
    "output2 = count_because(input2)\n",
    "print(output2) # Output:3"
   ]
  },
  {
   "cell_type": "code",
   "execution_count": 10,
   "id": "4f84dcba-9ecb-441b-9e24-38a1e6e9647d",
   "metadata": {},
   "outputs": [
    {
     "name": "stdout",
     "output_type": "stream",
     "text": [
      "[5, 7, 9]\n"
     ]
    }
   ],
   "source": [
    "#4\n",
    "\n",
    "def is_prime(num):\n",
    "    #check if a number is prime\n",
    "    if num <= 1:\n",
    "        return False\n",
    "    for i in range(2, int(num**0.5) + 1):\n",
    "        if num % i == 0:\n",
    "            return False\n",
    "        return True\n",
    "\n",
    "def Hilter(numbers):\n",
    "    # use filter() and a lambda function to filter out non-prime numbers\n",
    "    prime_numbers = list(filter(lambda x: is_prime(x), numbers))\n",
    "    return prime_numbers\n",
    "\n",
    "# example usage\n",
    "input_list = [1, 2, 3,4 ,5 ,6 ,7 ,8 ,9 ,10]\n",
    "output_list = Hilter(input_list)\n",
    "print(output_list) "
   ]
  },
  {
   "cell_type": "code",
   "execution_count": 9,
   "id": "d0b1f81c-f12b-4504-996d-271d0a263a2c",
   "metadata": {},
   "outputs": [
    {
     "name": "stdout",
     "output_type": "stream",
     "text": [
      "[('F', 'r'), ('j', 'k'), ('r', 'd'), ('t', 't'), ('b', 'g'), ('y', 'w'), ('q', 's'), ('w', 'e'), ('e', 'e')]\n"
     ]
    }
   ],
   "source": [
    "#5\n",
    "\n",
    "input_str = \"Farmer jack realized that big yellow quilts were expensive\"\n",
    "output_list = [(word[0], word[-1]) for word in input_str.split()]\n",
    "print(output_list) "
   ]
  },
  {
   "cell_type": "code",
   "execution_count": null,
   "id": "f49757ff-a362-49e0-871c-24c8985b5fd2",
   "metadata": {},
   "outputs": [],
   "source": []
  },
  {
   "cell_type": "code",
   "execution_count": 25,
   "id": "308d4e51-273c-4d5e-a484-474997c52b74",
   "metadata": {},
   "outputs": [],
   "source": [
    "#7\n",
    "\n",
    "def find_words(input_str):\n",
    "    result = set()\n",
    "    words = input_str.split()\n",
    "    for word in words:\n",
    "        if len(word)>1 and word[1].lower() == 'b':\n",
    "            result.add(word)\n",
    "    return list(result)"
   ]
  },
  {
   "cell_type": "code",
   "execution_count": 27,
   "id": "91b75013-6232-4cf8-8e4f-fc13fd6afc6a",
   "metadata": {},
   "outputs": [],
   "source": [
    "#8\n",
    "\n",
    "def is_right_triangle(a, b, c):\n",
    "    sides = [a, b, c]\n",
    "    sides.sort()\n",
    "    return sides[0]**2 + sides[1]**2 == sides[2]**2"
   ]
  },
  {
   "cell_type": "code",
   "execution_count": 29,
   "id": "8e33e115-4fc3-4293-b4d6-26314caec212",
   "metadata": {},
   "outputs": [],
   "source": [
    "#9\n",
    "\n",
    "def two_sum(nums, target):\n",
    "    see = {}\n",
    "    for i, num in enumerate(nums):\n",
    "        complement = target - num\n",
    "        if complement in seen:\n",
    "            return [seen[complement], i]\n",
    "        seen[num] = i\n",
    "    return None"
   ]
  },
  {
   "cell_type": "code",
   "execution_count": 31,
   "id": "b8ae52b3-5d42-4700-8806-7a8a0d90bae3",
   "metadata": {},
   "outputs": [],
   "source": [
    "#10\n",
    "\n",
    "def big_diff(nums):\n",
    "    smallest = nums[0]\n",
    "    largets = nums[0]\n",
    "    for num in nums:\n",
    "        if num < smallest:\n",
    "            smallest = num\n",
    "        elif num> largest:\n",
    "            largest = num \n",
    "    return largest - smallest"
   ]
  },
  {
   "cell_type": "code",
   "execution_count": null,
   "id": "96078ce5-6626-4882-aa58-204a4b12d3be",
   "metadata": {},
   "outputs": [],
   "source": []
  }
 ],
 "metadata": {
  "kernelspec": {
   "display_name": "Python 3 (ipykernel)",
   "language": "python",
   "name": "python3"
  },
  "language_info": {
   "codemirror_mode": {
    "name": "ipython",
    "version": 3
   },
   "file_extension": ".py",
   "mimetype": "text/x-python",
   "name": "python",
   "nbconvert_exporter": "python",
   "pygments_lexer": "ipython3",
   "version": "3.9.7"
  }
 },
 "nbformat": 4,
 "nbformat_minor": 5
}

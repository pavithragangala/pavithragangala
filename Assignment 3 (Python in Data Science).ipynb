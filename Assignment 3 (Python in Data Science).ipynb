{
 "cells": [
  {
   "cell_type": "code",
   "execution_count": null,
   "id": "383a290b",
   "metadata": {},
   "outputs": [],
   "source": [
    "#1\n",
    "The following binary operators in order of high to low precedence\n",
    "*\n",
    "/\n",
    "//\n",
    "%\n",
    "+\n",
    "-\n",
    "="
   ]
  },
  {
   "cell_type": "code",
   "execution_count": 2,
   "id": "73a81320",
   "metadata": {},
   "outputs": [
    {
     "name": "stdout",
     "output_type": "stream",
     "text": [
      "7\n",
      "0.4\n",
      "0\n",
      "2.5\n",
      "2\n",
      "-6\n",
      "7.0\n",
      "0.4\n",
      "2.5\n",
      "-1.0\n",
      "7.0\n",
      "0.4\n",
      "2.5\n",
      "0.8\n",
      "0.8\n"
     ]
    }
   ],
   "source": [
    "#2\n",
    "i1 = 2\n",
    "i2 = 5\n",
    "i3 = -3\n",
    "d1 = 2.0\n",
    "d2 = 5.0\n",
    "d3 = -0.5\n",
    "print(i1+i2)\n",
    "print(i1/i2)\n",
    "print(i1//i2)\n",
    "print(i2/i1)\n",
    "print(i2//i1)\n",
    "print(i1*i3)\n",
    "print(d1+d2)\n",
    "print(d1/d2)\n",
    "print(d2/d1)\n",
    "print(d3*d1)\n",
    "print(d1+i2)\n",
    "print(i1/d2)\n",
    "print(i2/d1)\n",
    "print(i1/i2*d1)\n",
    "print(d1*i1/i2)\n",
    "\n"
   ]
  },
  {
   "cell_type": "code",
   "execution_count": 3,
   "id": "30d85211",
   "metadata": {},
   "outputs": [
    {
     "name": "stdout",
     "output_type": "stream",
     "text": [
      "1.6666666666666667\n"
     ]
    }
   ],
   "source": [
    "#3\n",
    "print(5/3)"
   ]
  },
  {
   "cell_type": "code",
   "execution_count": 16,
   "id": "beae14a7",
   "metadata": {},
   "outputs": [
    {
     "name": "stdout",
     "output_type": "stream",
     "text": [
      "1\n",
      "2\n"
     ]
    }
   ],
   "source": [
    "#4\n",
    "#Get two numbers from the user\n",
    "n1 = float(input())#1\n",
    "n2 = float(input())#2"
   ]
  },
  {
   "cell_type": "code",
   "execution_count": 17,
   "id": "2baeab5e",
   "metadata": {},
   "outputs": [
    {
     "name": "stdout",
     "output_type": "stream",
     "text": [
      "3.0\n"
     ]
    }
   ],
   "source": [
    "#Compute sum of the two numbers\n",
    "print(n1+ n2)#3"
   ]
  },
  {
   "cell_type": "code",
   "execution_count": 18,
   "id": "56f90298",
   "metadata": {},
   "outputs": [
    {
     "name": "stdout",
     "output_type": "stream",
     "text": [
      "2.0\n"
     ]
    }
   ],
   "source": [
    "# Compute average of the two numbers\n",
    "print(n1+n2/2)#4"
   ]
  },
  {
   "cell_type": "code",
   "execution_count": 19,
   "id": "3bf62a80",
   "metadata": {},
   "outputs": [],
   "source": [
    "#Assign some variables\n",
    "d1 = d2 = 0 #5\n",
    "No error, No result"
   ]
  },
  {
   "cell_type": "code",
   "execution_count": 21,
   "id": "62823909",
   "metadata": {},
   "outputs": [
    {
     "ename": "ZeroDivisionError",
     "evalue": "float division by zero",
     "output_type": "error",
     "traceback": [
      "\u001b[0;31m---------------------------------------------------------------------------\u001b[0m",
      "\u001b[0;31mZeroDivisionError\u001b[0m                         Traceback (most recent call last)",
      "\u001b[0;32m/var/folders/3j/29g3z2ms0fb_0105bfk1f1980000gn/T/ipykernel_991/1212767631.py\u001b[0m in \u001b[0;36m<module>\u001b[0;34m\u001b[0m\n\u001b[1;32m      1\u001b[0m \u001b[0;31m# Compute a quotient\u001b[0m\u001b[0;34m\u001b[0m\u001b[0;34m\u001b[0m\u001b[0m\n\u001b[0;32m----> 2\u001b[0;31m \u001b[0mprint\u001b[0m\u001b[0;34m(\u001b[0m\u001b[0mn1\u001b[0m\u001b[0;34m/\u001b[0m\u001b[0md1\u001b[0m\u001b[0;34m)\u001b[0m \u001b[0;31m#6\u001b[0m\u001b[0;34m\u001b[0m\u001b[0;34m\u001b[0m\u001b[0m\n\u001b[0m",
      "\u001b[0;31mZeroDivisionError\u001b[0m: float division by zero"
     ]
    }
   ],
   "source": [
    "# Compute a quotient\n",
    "print(n1/d1) #6"
   ]
  },
  {
   "cell_type": "code",
   "execution_count": 22,
   "id": "6c478da8",
   "metadata": {},
   "outputs": [
    {
     "ename": "SyntaxError",
     "evalue": "cannot assign to operator (3840392879.py, line 2)",
     "output_type": "error",
     "traceback": [
      "\u001b[0;36m  File \u001b[0;32m\"/var/folders/3j/29g3z2ms0fb_0105bfk1f1980000gn/T/ipykernel_991/3840392879.py\"\u001b[0;36m, line \u001b[0;32m2\u001b[0m\n\u001b[0;31m    n1*n2 = d1 #7\u001b[0m\n\u001b[0m    ^\u001b[0m\n\u001b[0;31mSyntaxError\u001b[0m\u001b[0;31m:\u001b[0m cannot assign to operator\n"
     ]
    }
   ],
   "source": [
    "# Compute a product\n",
    "n1*n2 = d1 #7"
   ]
  },
  {
   "cell_type": "code",
   "execution_count": 23,
   "id": "cabc17dc",
   "metadata": {},
   "outputs": [
    {
     "name": "stdout",
     "output_type": "stream",
     "text": [
      "0\n"
     ]
    }
   ],
   "source": [
    "# Print result \n",
    "print(d1) #8"
   ]
  },
  {
   "cell_type": "code",
   "execution_count": null,
   "id": "6022e306",
   "metadata": {},
   "outputs": [],
   "source": [
    "#5\n",
    "SYNTAX ERROR:- Syntax Error is due to lack of knowledge in a specific language. It's due to notoriety does not know how to use the features of a language. We can know the errors at the time of compilation. It happens at the time \n",
    "errors need to be rectified before pacing further. \n",
    "\n",
    "RUN TIME ERROR:- The exceptions like peak a number by 0, overflow and underflow comes under this. Error occurs at run-time.Such error causes a program to end suddenly or indeed system shut-down. Such error are hard to detect. \n",
    "Error caused due to low system memory.\n",
    "\n",
    "LOGICAL ERROR:- It's due to the poor understanding of the demand or problem. It may be that a program contains no \n",
    "syntax or run-time errors but still it doesn't produce the correct O/P.It's because the developer has not understood \n",
    "the problem statement properly.These errors are hard to detect as well. \n",
    "Example - Error caused when any circle is not closed at the right place. \n"
   ]
  },
  {
   "cell_type": "code",
   "execution_count": 20,
   "id": "53565e0b",
   "metadata": {},
   "outputs": [
    {
     "name": "stdout",
     "output_type": "stream",
     "text": [
      "3\n",
      "1\n"
     ]
    }
   ],
   "source": [
    "#6\n",
    "x1 = 2 \n",
    "x2 = 2 \n",
    "x1 += 1 \n",
    "x2 -= 1 \n",
    "print(x1)\n",
    "print(x2)"
   ]
  },
  {
   "cell_type": "code",
   "execution_count": null,
   "id": "20bb3021",
   "metadata": {},
   "outputs": [],
   "source": [
    "#7\n",
    "Yes, same result, as we aren't changing any logic for processing code"
   ]
  },
  {
   "cell_type": "code",
   "execution_count": null,
   "id": "1ee1d407",
   "metadata": {},
   "outputs": [],
   "source": [
    "#8\n",
    "No, We won't get same results as sum = 0"
   ]
  },
  {
   "cell_type": "code",
   "execution_count": 6,
   "id": "9e3d5381",
   "metadata": {},
   "outputs": [
    {
     "name": "stdout",
     "output_type": "stream",
     "text": [
      "*\n",
      "*\n",
      "*\n",
      "*\n",
      "*\n",
      "*\n",
      "*\n",
      "*\n",
      "*\n",
      "*\n",
      "*\n",
      "*\n",
      "*\n",
      "*\n",
      "*\n",
      "*\n",
      "*\n",
      "*\n",
      "*\n",
      "*\n",
      "*\n",
      "*\n",
      "*\n",
      "*\n",
      "*\n",
      "*\n",
      "*\n",
      "*\n",
      "*\n",
      "*\n",
      "*\n",
      "*\n",
      "*\n",
      "*\n",
      "*\n",
      "*\n",
      "*\n",
      "*\n",
      "*\n",
      "*\n",
      "*\n",
      "*\n",
      "*\n",
      "*\n",
      "*\n",
      "*\n",
      "*\n",
      "*\n",
      "*\n",
      "*\n",
      "*\n",
      "*\n",
      "*\n",
      "*\n",
      "*\n",
      "*\n",
      "*\n",
      "*\n",
      "*\n",
      "*\n",
      "*\n",
      "*\n",
      "*\n",
      "*\n",
      "*\n",
      "*\n",
      "*\n",
      "*\n",
      "*\n",
      "*\n",
      "*\n",
      "*\n",
      "*\n",
      "*\n",
      "*\n",
      "*\n",
      "*\n",
      "*\n",
      "*\n",
      "*\n",
      "*\n",
      "*\n",
      "*\n",
      "*\n",
      "*\n",
      "*\n",
      "*\n",
      "*\n",
      "*\n",
      "*\n",
      "*\n",
      "*\n",
      "*\n",
      "*\n",
      "*\n",
      "*\n",
      "*\n",
      "*\n",
      "*\n",
      "*\n",
      "*\n",
      "*\n",
      "*\n",
      "*\n",
      "*\n",
      "*\n",
      "*\n",
      "*\n",
      "*\n",
      "*\n",
      "*\n",
      "*\n",
      "*\n",
      "*\n",
      "*\n",
      "*\n",
      "*\n",
      "*\n",
      "*\n",
      "*\n"
     ]
    }
   ],
   "source": [
    " #9\n",
    "    a = 0\n",
    "while a < 100:\n",
    "        b = 0\n",
    "        while b < 40:\n",
    "            if (a+b) % 2 == 0:\n",
    "                print('*', end ='')\n",
    "                b += 1\n",
    "                print()\n",
    "                a += 1\n",
    "Answer= 2000"
   ]
  },
  {
   "cell_type": "code",
   "execution_count": 1,
   "id": "c689df71",
   "metadata": {},
   "outputs": [
    {
     "name": "stdout",
     "output_type": "stream",
     "text": [
      "0 1 2 3 4 \n"
     ]
    }
   ],
   "source": [
    "#10\n",
    "for i in range(0,5,1):\n",
    "    print(i, end=\" \")\n",
    "print()"
   ]
  },
  {
   "cell_type": "code",
   "execution_count": 2,
   "id": "ae69bc70",
   "metadata": {},
   "outputs": [
    {
     "name": "stdout",
     "output_type": "stream",
     "text": [
      "range(5) =  [0, 1, 2, 3, 4]\n",
      "range(5, 10) =  [5, 6, 7, 8, 9]\n",
      "range(5, 20, 3) =  [5, 8, 11, 14, 17]\n",
      "range(20, 5, -1) =  [20, 19, 18, 17, 16, 15, 14, 13, 12, 11, 10, 9, 8, 7, 6]\n",
      "range(20, 5, -3) =  [20, 17, 14, 11, 8]\n",
      "range(10, 5) = []\n"
     ]
    }
   ],
   "source": [
    "#11\n",
    "num_range1 = range(5) #start=1, stop=5\n",
    "print('range(5) = ', list(num_range1))\n",
    "\n",
    "num_range2 = range(5, 10) #start=5, stop=10\n",
    "print('range(5, 10) = ', list(num_range2))\n",
    "\n",
    "num_range3 = range(5, 20, 3) #start=5, stop=20\n",
    "print('range(5, 20, 3) = ', list(num_range3))\n",
    "\n",
    "num_range4 = range(20, 5, -1) #start=20, stop=-1\n",
    "print('range(20, 5, -1) = ', list(num_range4))\n",
    "\n",
    "num_range5 = range(20, 5, -3) #start=0, stop=-5\n",
    "print('range(20, 5, -3) = ', list(num_range5))\n",
    "\n",
    "num_range6 = range(10,5) #start=10, stop=5\n",
    "print('range(10, 5) =', list(num_range6))"
   ]
  },
  {
   "cell_type": "code",
   "execution_count": 3,
   "id": "36c7c32c",
   "metadata": {},
   "outputs": [
    {
     "name": "stdout",
     "output_type": "stream",
     "text": [
      "********************************************************************************************************************************************************************************************************\n"
     ]
    }
   ],
   "source": [
    "#12\n",
    "for a in range(-100, 100):\n",
    "    print('*', end='')\n",
    "print()\n",
    "ANSWER = 200"
   ]
  },
  {
   "cell_type": "code",
   "execution_count": 10,
   "id": "8cc5ef39",
   "metadata": {},
   "outputs": [
    {
     "name": "stdout",
     "output_type": "stream",
     "text": [
      "Enter number of rows 13\n",
      "*\n",
      "**\n",
      "***\n",
      "****\n",
      "*****\n",
      "******\n",
      "*******\n",
      "********\n",
      "*********\n",
      "**********\n",
      "***********\n",
      "************\n",
      "*************\n",
      "************\n",
      "***********\n",
      "**********\n",
      "*********\n",
      "********\n",
      "*******\n",
      "******\n",
      "*****\n",
      "****\n",
      "***\n",
      "**\n",
      "*\n",
      "\n"
     ]
    }
   ],
   "source": [
    "#14\n",
    "rows = input(\"Enter number of rows \")\n",
    "rows = int (rows) \n",
    "for i in range (0, rows):\n",
    "    for j in range(0, i + 1):\n",
    "        print(\"*\", end='') \n",
    "    print(\"\\r\")\n",
    "for i in range(rows,0,-1):\n",
    "    for j in range(0, i - 1):\n",
    "        print(\"*\", end='') \n",
    "    print(\"\\r\")"
   ]
  },
  {
   "cell_type": "code",
   "execution_count": 13,
   "id": "071993d2",
   "metadata": {},
   "outputs": [
    {
     "name": "stdout",
     "output_type": "stream",
     "text": [
      "9\n",
      "You entered a positive integer\n",
      "-5\n",
      "You entered a negative integer\n"
     ]
    }
   ],
   "source": [
    "#13 \n",
    "entry=0 \n",
    "while entry>=0:\n",
    " entry = int(input())\n",
    " if entry>=1:\n",
    "    print('You entered a positive integer')\n",
    "if entry!=0:\n",
    "     print('You entered a negative integer')\n"
   ]
  }
 ],
 "metadata": {
  "kernelspec": {
   "display_name": "Python 3 (ipykernel)",
   "language": "python",
   "name": "python3"
  },
  "language_info": {
   "codemirror_mode": {
    "name": "ipython",
    "version": 3
   },
   "file_extension": ".py",
   "mimetype": "text/x-python",
   "name": "python",
   "nbconvert_exporter": "python",
   "pygments_lexer": "ipython3",
   "version": "3.9.7"
  }
 },
 "nbformat": 4,
 "nbformat_minor": 5
}

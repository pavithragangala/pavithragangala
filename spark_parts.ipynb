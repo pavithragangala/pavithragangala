{
 "cells": [
  {
   "cell_type": "markdown",
   "metadata": {
    "application/vnd.databricks.v1+cell": {
     "cellMetadata": {
      "byteLimit": 2048000,
      "rowLimit": 10000
     },
     "inputWidgets": {},
     "nuid": "a8328043-b87e-41d7-a60c-9c263e3220ba",
     "showTitle": false,
     "title": ""
    }
   },
   "source": [
    "# Assignment\n",
    "\n",
    "Please answer each question to the corresponding question cell below. Your final code must have the code as well as the output of your code. You can use Saint Peter's [Azure Databricks](https://adb-7130196131129306.6.azuredatabricks.net/?o=7130196131129306#) to do this assignment."
   ]
  },
  {
   "cell_type": "markdown",
   "metadata": {
    "application/vnd.databricks.v1+cell": {
     "cellMetadata": {
      "byteLimit": 2048000,
      "rowLimit": 10000
     },
     "inputWidgets": {},
     "nuid": "06548336-5027-4f9e-9e1f-b6f659eafcee",
     "showTitle": false,
     "title": ""
    }
   },
   "source": [
    "## Questions"
   ]
  },
  {
   "cell_type": "markdown",
   "metadata": {
    "application/vnd.databricks.v1+cell": {
     "cellMetadata": {
      "byteLimit": 2048000,
      "rowLimit": 10000
     },
     "inputWidgets": {},
     "nuid": "2ccf6b1c-9ef6-4b94-9dbc-9859f3e5d759",
     "showTitle": false,
     "title": ""
    }
   },
   "source": [
    "### Q1\n",
    "\n",
    "What type of deployment configurations available in Spark? Evaluate each different mode in terms of interactivity, driver specs, cluster manager, and production use."
   ]
  },
  {
   "cell_type": "markdown",
   "metadata": {
    "application/vnd.databricks.v1+cell": {
     "cellMetadata": {
      "byteLimit": 2048000,
      "rowLimit": 10000
     },
     "inputWidgets": {},
     "nuid": "40766a73-2dde-43ae-ad84-b5b332ea78e9",
     "showTitle": false,
     "title": ""
    }
   },
   "source": [
    "Local Mode - Local Mode: In this mode, Spark runs on a single machine with a single thread. This mode is best suited for development and testing purposes as it offers high interactivity and low latency. However, it has limited resources, and its scalability is restricted.\n",
    "Standalone Mode: In this mode, Spark runs on a cluster of machines managed by Spark's built-in cluster manager. It offers better scalability and fault tolerance than local mode. It also supports dynamic allocation of resources, which allows Spark to adjust the resources allocated to a job based on its needs. However, it requires manual configuration of the cluster, which can be challenging for larger deployments.\n",
    "Apache Mesos: Mesos is a general-purpose cluster manager that can be used to manage Spark clusters. It offers better resource isolation and scheduling than standalone mode and is easier to set up and manage than other cluster managers. However, it may not be as efficient as dedicated cluster managers like YARN or Kubernetes.\n",
    "Hadoop YARN: YARN is a resource manager that can be used to manage Spark clusters. It offers better integration with the Hadoop ecosystem than standalone mode and supports security features like Kerberos authentication. It also offers better scalability and resource utilization than standalone mode. However, it can be complex to set up and manage, and it may not be suitable for non-Hadoop workloads.\n",
    "Kubernetes: Kubernetes is an open-source container orchestration platform that can be used to manage Spark clusters. It offers better flexibility and scalability than other cluster managers and supports features like auto-scaling and workload isolation. However, it requires more setup and management than other cluster managers, and it may not be as efficient as dedicated cluster managers for large-scale deployments."
   ]
  },
  {
   "cell_type": "markdown",
   "metadata": {
    "application/vnd.databricks.v1+cell": {
     "cellMetadata": {
      "byteLimit": 2048000,
      "rowLimit": 10000
     },
     "inputWidgets": {},
     "nuid": "18886cd5-d691-43d0-8716-2bd43fbd3cb7",
     "showTitle": false,
     "title": ""
    }
   },
   "source": [
    "### Q2\n",
    "\n",
    "What is a driver program in Spark, what are the responsibilities of this program, and how many driver processes can exist in a Spark cluster?"
   ]
  },
  {
   "cell_type": "markdown",
   "metadata": {
    "application/vnd.databricks.v1+cell": {
     "cellMetadata": {
      "byteLimit": 2048000,
      "rowLimit": 10000
     },
     "inputWidgets": {},
     "nuid": "2164c162-6318-454a-9a56-b78f29bdc05c",
     "showTitle": false,
     "title": ""
    }
   },
   "source": [
    "In Spark, a driver program is the main program or application that defines the computation and data processing tasks to be performed on a Spark cluster. The driver program is responsible for setting up the execution environment, creating the RDDs (Resilient Distributed Datasets) or DataFrames, defining the DAG (Directed Acyclic Graph) of transformations and actions, and submitting the tasks to the cluster for execution.\n",
    "The driver program has several key responsibilities:\n",
    "Defining the computation: The driver program defines the computation that needs to be performed on the data using the Spark API. It creates the RDDs or DataFrames and applies transformations and actions to the data.\n",
    "Creating the DAG: The driver program creates a directed acyclic graph (DAG) of the computation, which specifies the dependencies between the RDDs and the transformations and actions that need to be applied to them.\n",
    "Submitting tasks: The driver program submits the tasks to the cluster for execution, based on the DAG. It also monitors the progress of the tasks and handles any errors or failures that occur during the execution.\n",
    "Coordinating with external systems: The driver program may need to interact with external systems, such as Hadoop or a database, to read or write data.\n",
    "In a Spark cluster, there is only one driver program, and it runs on a separate node outside of the worker nodes. This driver program communicates with the Spark cluster's master node to coordinate the execution of tasks on the worker nodes. The driver program is responsible for managing the entire Spark application, and it must have sufficient resources to handle the size and complexity of the computation. The resources required by the driver program depend on the size of the input data, the complexity of the computation, and the amount of memory required to store the intermediate data. Therefore, it is essential to allocate enough resources to the driver program to prevent it from becoming a bottleneck for the entire Spark application."
   ]
  },
  {
   "cell_type": "markdown",
   "metadata": {
    "application/vnd.databricks.v1+cell": {
     "cellMetadata": {
      "byteLimit": 2048000,
      "rowLimit": 10000
     },
     "inputWidgets": {},
     "nuid": "d3eb9f8f-f5b6-46ce-ad71-55934c46336e",
     "showTitle": false,
     "title": ""
    }
   },
   "source": [
    "### Q3\n",
    "\n",
    "What is an executor, task and slots? Define each of them, write down it's responsibilities."
   ]
  },
  {
   "cell_type": "markdown",
   "metadata": {
    "application/vnd.databricks.v1+cell": {
     "cellMetadata": {
      "byteLimit": 2048000,
      "rowLimit": 10000
     },
     "inputWidgets": {},
     "nuid": "4e5b6083-bbcb-46a5-ace1-a3cfa8045080",
     "showTitle": false,
     "title": ""
    }
   },
   "source": [
    "In Spark, an executor is a process that runs on a worker node in the cluster and is responsible for executing the tasks assigned by the driver program. Each executor runs in a separate JVM (Java Virtual Machine) instance and is allocated a fixed amount of memory and CPU cores.\n",
    "\n",
    "A task is a unit of work that is assigned to an executor by the driver program. Tasks are created based on the transformations and actions defined in the Spark application and are executed in parallel across the worker nodes in the cluster. Each task performs a specific operation on a subset of the input data, such as filtering or aggregating, and produces a result that is passed back to the driver program.\n",
    "\n",
    "Slots refer to the resources, such as CPU cores and memory, that are allocated to an executor. Each executor is allocated a fixed number of slots, and each slot is assigned to a specific task. The number of slots allocated to an executor depends on the available resources and the configuration of the cluster.\n",
    "\n",
    "The responsibilities of an executor include:\n",
    "\n",
    "Running tasks: The executor is responsible for executing the tasks assigned by the driver program. It reads the input data, performs the specified transformations and actions, and produces the output data.\n",
    "Managing memory: The executor is responsible for managing the memory allocated to it. It must ensure that there is enough memory available to perform the tasks assigned to it and must release the memory when the tasks are completed.\n",
    "Handling failures: The executor must handle any failures that occur during task execution, such as node failures or network errors. It must also report any errors or exceptions back to the driver program.\n",
    "Interacting with external systems: The executor may need to interact with external systems, such as Hadoop or a database, to read or write data.\n",
    "\n",
    "The responsibilities of a task include:\n",
    "\n",
    "Performing a specific operation: The task is responsible for performing a specific operation, such as filtering or aggregating, on a subset of the input data.\n",
    "Reading and writing data: The task reads the input data from the storage system and writes the output data to the storage system.\n",
    "Interacting with other tasks: The task may need to interact with other tasks to perform the specified operation. For example, a reduce task may need to combine the output of multiple map tasks.\n",
    "Overall, the combination of the driver program, executor, tasks, and slots work together to parallelize the computation and data processing tasks across the cluster and to ensure efficient resource utilization."
   ]
  },
  {
   "cell_type": "markdown",
   "metadata": {
    "application/vnd.databricks.v1+cell": {
     "cellMetadata": {
      "byteLimit": 2048000,
      "rowLimit": 10000
     },
     "inputWidgets": {},
     "nuid": "00062f53-0536-4f45-bcd7-7044f0270960",
     "showTitle": false,
     "title": ""
    }
   },
   "source": [
    "### Q4\n",
    "\n",
    "What is a Spark DataFrame, how it is different than a table in a SQL database?"
   ]
  },
  {
   "cell_type": "markdown",
   "metadata": {
    "application/vnd.databricks.v1+cell": {
     "cellMetadata": {
      "byteLimit": 2048000,
      "rowLimit": 10000
     },
     "inputWidgets": {},
     "nuid": "b5af2606-7d53-4c35-b07a-c64496bdf94c",
     "showTitle": false,
     "title": ""
    }
   },
   "source": [
    "A Spark DataFrame is a distributed collection of data organized into named columns. It is similar to a table in a SQL database in that it represents a structured, tabular dataset with rows and columns. However, there are several key differences between a Spark DataFrame and a table in a SQL database.\n",
    "\n",
    "Firstly, a Spark DataFrame is designed to handle large-scale, distributed datasets that cannot be processed on a single machine. It is built on top of Spark's distributed computing framework, which allows it to parallelize the processing of data across a cluster of machines. This makes it well-suited for big data processing tasks, such as data cleaning, feature engineering, and statistical analysis.\n",
    "\n",
    "Secondly, a Spark DataFrame provides a rich set of APIs for manipulating data, including filtering, aggregating, and joining operations. These APIs are similar to the SQL queries used to manipulate tables in a database, but they are more expressive and flexible. For example, Spark DataFrames support complex data types, such as arrays and maps, and can handle nested structures, which can be challenging to represent in a relational database.\n",
    "\n",
    "Thirdly, a Spark DataFrame is schema-on-read, meaning that the schema is inferred automatically from the input data when it is loaded into memory. This allows for more flexibility in the data processing pipeline, as the schema can be adjusted as needed without requiring changes to the underlying data storage. In contrast, a SQL database typically requires a pre-defined schema to be specified before data can be loaded into a table.\n",
    "\n",
    "Overall, Spark DataFrames offer a powerful and flexible way to process large-scale, distributed datasets, with APIs that are well-suited for complex data transformations and analysis. While they share some similarities with tables in a SQL database, they are designed to handle a different set of challenges and requirements, and offer unique advantages in the context of big data processing."
   ]
  },
  {
   "cell_type": "markdown",
   "metadata": {
    "application/vnd.databricks.v1+cell": {
     "cellMetadata": {
      "byteLimit": 2048000,
      "rowLimit": 10000
     },
     "inputWidgets": {},
     "nuid": "5f48e4dd-4afb-473f-adf7-b5c745740090",
     "showTitle": false,
     "title": ""
    }
   },
   "source": [
    "### Q5\n",
    "\n",
    "What is the difference between wide and narrow transformations, what is the role of partitions in this difference? Give example functions to each type of transformation."
   ]
  },
  {
   "cell_type": "markdown",
   "metadata": {
    "application/vnd.databricks.v1+cell": {
     "cellMetadata": {
      "byteLimit": 2048000,
      "rowLimit": 10000
     },
     "inputWidgets": {},
     "nuid": "e3947759-c21b-4f47-bd51-50cea4c2583f",
     "showTitle": false,
     "title": ""
    }
   },
   "source": [
    "In Spark, transformations are operations that create a new RDD (Resilient Distributed Dataset) from an existing one. Transformations can be categorized into two types: wide transformations and narrow transformations.\n",
    "\n",
    "Narrow transformations are transformations where each input partition is used to create only one output partition. In other words, narrow transformations do not require shuffling of data across the network. Examples of narrow transformations include map(), filter(), and union().\n",
    "\n",
    "Wide transformations are transformations where each input partition may be used to create multiple output partitions. Wide transformations require shuffling of data across the network, which can be a costly operation. Examples of wide transformations include groupByKey(), reduceByKey(), and join().\n",
    "\n",
    "Partitions play an important role in the difference between wide and narrow transformations. In narrow transformations, each partition is processed independently of the other partitions, and the output of each partition is combined to produce the final RDD. In wide transformations, data must be shuffled across the network to ensure that data with the same key is processed by the same worker node. This requires data to be redistributed across partitions, which can be a costly operation.\n",
    "\n",
    "Here are some examples of narrow and wide transformations in Spark:\n",
    "\n",
    "Narrow transformations:\n",
    "\n",
    "map(): Applies a function to each element in the RDD and returns a new RDD with the transformed values.\n",
    "filter(): Filters the elements in the RDD based on a condition and returns a new RDD with the filtered values.\n",
    "union(): Concatenates two RDDs and returns a new RDD with the combined values.\n",
    "Wide transformations:\n",
    "\n",
    "groupByKey(): Groups the elements in the RDD by key and returns a new RDD with the groups.\n",
    "reduceByKey(): Aggregates the values for each key in the RDD and returns a new RDD with the aggregated values.\n",
    "join(): Joins two RDDs based on a common key and returns a new RDD with the joined values.\n",
    "\n",
    "Overall, understanding the difference between wide and narrow transformations is important for optimizing Spark jobs and improving their performance. By using narrow transformations where possible and minimizing the use of wide transformations, it is possible to reduce the amount of data shuffling required and improve the overall efficiency of the Spark job."
   ]
  },
  {
   "cell_type": "markdown",
   "metadata": {
    "application/vnd.databricks.v1+cell": {
     "cellMetadata": {
      "byteLimit": 2048000,
      "rowLimit": 10000
     },
     "inputWidgets": {},
     "nuid": "e994934b-8a8c-4e51-b44b-7e7dc50ceaa4",
     "showTitle": false,
     "title": ""
    }
   },
   "source": [
    "### Q6\n",
    "\n",
    "What is the cost model in The Catalyst Optimizer?"
   ]
  },
  {
   "cell_type": "markdown",
   "metadata": {
    "application/vnd.databricks.v1+cell": {
     "cellMetadata": {
      "byteLimit": 2048000,
      "rowLimit": 10000
     },
     "inputWidgets": {},
     "nuid": "a17e3fbc-79e1-44ba-88db-549180dc1e44",
     "showTitle": false,
     "title": ""
    }
   },
   "source": [
    "The Catalyst Optimizer is a query optimizer used in Apache Spark to optimize SQL, DataFrame and Dataset queries. It uses a cost-based optimization model to generate the most efficient query execution plan based on estimated costs.\n",
    "\n",
    "The cost model in the Catalyst Optimizer works by estimating the cost of each possible query execution plan based on a set of predefined metrics, such as data size, input/output data formats, network latency, CPU utilization, memory usage, and disk access. These metrics are used to estimate the cost of each operation in the query execution plan, such as join, filter, and sort.\n",
    "\n",
    "The cost model uses statistical information about the data, such as column data distributions and cardinality, to estimate the cost of each operation in the query execution plan. The optimizer generates multiple candidate plans and compares their estimated costs to select the most efficient plan based on the total estimated cost.\n",
    "\n",
    "The cost model in the Catalyst Optimizer is designed to be extensible, allowing users to customize the cost model to fit their specific needs. For example, users can define their own cost functions for specific operations or introduce new cost metrics to better capture the characteristics of their data.\n",
    "\n",
    "Overall, the cost model in the Catalyst Optimizer is a powerful tool for optimizing query performance in Apache Spark. By estimating the cost of each possible query execution plan, it is able to generate the most efficient plan for a given query, reducing query execution time and improving overall system performance."
   ]
  },
  {
   "cell_type": "markdown",
   "metadata": {
    "application/vnd.databricks.v1+cell": {
     "cellMetadata": {
      "byteLimit": 2048000,
      "rowLimit": 10000
     },
     "inputWidgets": {},
     "nuid": "e1ad4572-59da-4479-b43a-4afac337f807",
     "showTitle": false,
     "title": ""
    }
   },
   "source": [
    "### Q7\n",
    "\n",
    "Explain what happens when a user submits a Spark Application that initiates a SparkSesion and calls an action. Elaborate the role of driver, Jobs, Stages, and Tasks."
   ]
  },
  {
   "cell_type": "markdown",
   "metadata": {
    "application/vnd.databricks.v1+cell": {
     "cellMetadata": {
      "byteLimit": 2048000,
      "rowLimit": 10000
     },
     "inputWidgets": {},
     "nuid": "d6dc13f6-d120-459a-bc47-59c76a4e9e74",
     "showTitle": false,
     "title": ""
    }
   },
   "source": [
    "When a user submits a Spark application, it first creates a SparkSession, which is the entry point for all Spark functionality. The SparkSession is responsible for managing the connection to the Spark cluster and provides a unified interface to interact with Spark.\n",
    "\n",
    "Once the SparkSession is created, the user can perform various transformations and actions on data using Spark APIs. Transformations are operations that create a new RDD (Resilient Distributed Dataset) from an existing one, while actions are operations that return a result to the driver program or write data to external storage.\n",
    "\n",
    "When an action is called, the SparkSession submits a job to the cluster, which is composed of multiple stages. Each stage is a sequence of transformations that can be executed together, without the need for shuffling data between stages. The stages are divided based on the operations that require shuffling of data, which is a costly operation that involves moving data between nodes in the cluster.\n",
    "\n",
    "The job is then divided into multiple tasks, which are the smallest unit of work in Spark. Each task is assigned to a worker node in the cluster and performs a specific computation on a subset of the data. The driver program coordinates the execution of tasks and collects the results returned by each task.\n",
    "\n",
    "The driver program is responsible for managing the overall execution of the Spark application. It submits jobs to the cluster, collects results from tasks, and handles any errors or failures that occur during the execution.\n",
    "\n",
    "In summary, when a user submits a Spark application that initiates a SparkSession and calls an action, the SparkSession submits a job to the cluster, which is divided into multiple stages based on the operations that require shuffling. Each stage is divided into tasks, which are assigned to worker nodes for execution. The driver program coordinates the execution of tasks and collects the results returned by each task. By breaking down the job into stages and tasks, Spark is able to execute computations in a distributed and parallel manner, improving the efficiency and scalability of the system."
   ]
  },
  {
   "cell_type": "markdown",
   "metadata": {
    "application/vnd.databricks.v1+cell": {
     "cellMetadata": {
      "byteLimit": 2048000,
      "rowLimit": 10000
     },
     "inputWidgets": {},
     "nuid": "7f212db1-89d8-4186-864a-73952ca67754",
     "showTitle": false,
     "title": ""
    }
   },
   "source": [
    "Answer the following questions using the dataset below."
   ]
  },
  {
   "cell_type": "code",
   "execution_count": 0,
   "metadata": {
    "application/vnd.databricks.v1+cell": {
     "cellMetadata": {
      "byteLimit": 2048000,
      "rowLimit": 10000
     },
     "inputWidgets": {},
     "nuid": "8c677f54-fe2c-44e0-a99c-6a717b5d36da",
     "showTitle": false,
     "title": ""
    }
   },
   "outputs": [],
   "source": [
    "df = spark \\\n",
    "    .read \\\n",
    "    .format(\"csv\")\\\n",
    "    .option(\"header\", \"true\") \\\n",
    "    .load(\"/databricks-datasets/airlines/part-00000\")"
   ]
  },
  {
   "cell_type": "markdown",
   "metadata": {
    "application/vnd.databricks.v1+cell": {
     "cellMetadata": {
      "byteLimit": 2048000,
      "rowLimit": 10000
     },
     "inputWidgets": {},
     "nuid": "78afe9e2-3449-45e4-9c00-e1c1411ae2af",
     "showTitle": false,
     "title": ""
    }
   },
   "source": [
    "### Q8\n",
    "\n",
    "Show the number of columns, and the number of rows in a tuple, ex: Pandas has `df.shape`."
   ]
  },
  {
   "cell_type": "code",
   "execution_count": 0,
   "metadata": {
    "application/vnd.databricks.v1+cell": {
     "cellMetadata": {
      "byteLimit": 2048000,
      "rowLimit": 10000
     },
     "inputWidgets": {},
     "nuid": "99c5bcb2-3e9d-468b-8ea8-f0a688168ab5",
     "showTitle": false,
     "title": ""
    }
   },
   "outputs": [
    {
     "output_type": "stream",
     "name": "stdout",
     "output_type": "stream",
     "text": [
      "root\n |-- Year: string (nullable = true)\n |-- Month: string (nullable = true)\n |-- DayofMonth: string (nullable = true)\n |-- DayOfWeek: string (nullable = true)\n |-- DepTime: string (nullable = true)\n |-- CRSDepTime: string (nullable = true)\n |-- ArrTime: string (nullable = true)\n |-- CRSArrTime: string (nullable = true)\n |-- UniqueCarrier: string (nullable = true)\n |-- FlightNum: string (nullable = true)\n |-- TailNum: string (nullable = true)\n |-- ActualElapsedTime: string (nullable = true)\n |-- CRSElapsedTime: string (nullable = true)\n |-- AirTime: string (nullable = true)\n |-- ArrDelay: string (nullable = true)\n |-- DepDelay: string (nullable = true)\n |-- Origin: string (nullable = true)\n |-- Dest: string (nullable = true)\n |-- Distance: string (nullable = true)\n |-- TaxiIn: string (nullable = true)\n |-- TaxiOut: string (nullable = true)\n |-- Cancelled: string (nullable = true)\n |-- CancellationCode: string (nullable = true)\n |-- Diverted: string (nullable = true)\n |-- CarrierDelay: string (nullable = true)\n |-- WeatherDelay: string (nullable = true)\n |-- NASDelay: string (nullable = true)\n |-- SecurityDelay: string (nullable = true)\n |-- LateAircraftDelay: string (nullable = true)\n |-- IsArrDelayed: string (nullable = true)\n |-- IsDepDelayed: string (nullable = true)\n\nNumber of columns and rows: (31, 645918)\n"
     ]
    }
   ],
   "source": [
    "# Print the schema to get the number of columns\n",
    "df.printSchema()\n",
    "num_cols = len(df.columns)\n",
    "\n",
    "# Count the number of rows\n",
    "num_rows = df.count()\n",
    "\n",
    "# Print the number of columns and rows as a tuple\n",
    "print(\"Number of columns and rows:\", (num_cols, num_rows))\n"
   ]
  },
  {
   "cell_type": "markdown",
   "metadata": {
    "application/vnd.databricks.v1+cell": {
     "cellMetadata": {
      "byteLimit": 2048000,
      "rowLimit": 10000
     },
     "inputWidgets": {},
     "nuid": "330eeb7b-c44e-4a28-bea4-4b0bb9a44ff2",
     "showTitle": false,
     "title": ""
    }
   },
   "source": [
    "### Q9\n",
    "\n",
    "Show all the unique `UniqueCarrier`'s in this data."
   ]
  },
  {
   "cell_type": "code",
   "execution_count": 0,
   "metadata": {
    "application/vnd.databricks.v1+cell": {
     "cellMetadata": {
      "byteLimit": 2048000,
      "rowLimit": 10000
     },
     "inputWidgets": {},
     "nuid": "7c9a6d1a-8cdd-42e3-83f5-47e06887fa46",
     "showTitle": false,
     "title": ""
    }
   },
   "outputs": [
    {
     "output_type": "stream",
     "name": "stdout",
     "output_type": "stream",
     "text": [
      "+-------------+\n|UniqueCarrier|\n+-------------+\n|           UA|\n|           PS|\n|           TW|\n|           EA|\n|           WN|\n|           NW|\n|           HP|\n|           PI|\n|           CO|\n|       PA (1)|\n|           DL|\n|           AA|\n|           US|\n|           AS|\n+-------------+\n\n"
     ]
    }
   ],
   "source": [
    "# Get all unique UniqueCarrier values\n",
    "unique_carriers = df.select(\"UniqueCarrier\").distinct()\n",
    "\n",
    "# Display the results\n",
    "unique_carriers.show()\n"
   ]
  },
  {
   "cell_type": "markdown",
   "metadata": {
    "application/vnd.databricks.v1+cell": {
     "cellMetadata": {
      "byteLimit": 2048000,
      "rowLimit": 10000
     },
     "inputWidgets": {},
     "nuid": "eb76fc78-f542-45b5-a018-f5a997d0e3a9",
     "showTitle": false,
     "title": ""
    }
   },
   "source": [
    "### Q10\n",
    "\n",
    "Show the total number of delays for each `UniqueCarrier`."
   ]
  },
  {
   "cell_type": "code",
   "execution_count": 0,
   "metadata": {
    "application/vnd.databricks.v1+cell": {
     "cellMetadata": {
      "byteLimit": 2048000,
      "rowLimit": 10000
     },
     "inputWidgets": {},
     "nuid": "0c9e7a3d-b8bc-4298-9638-272eddb285f6",
     "showTitle": false,
     "title": ""
    }
   },
   "outputs": [],
   "source": [
    "from pyspark.sql.functions import sum\n",
    "\n",
    "df.groupBy(\"UniqueCarrier\") \\\n",
    "  .agg(sum(\"ArrDelay\").alias(\"total_delays\")) \\\n",
    "  .show()\n",
    "\n"
   ]
  },
  {
   "cell_type": "markdown",
   "metadata": {
    "application/vnd.databricks.v1+cell": {
     "cellMetadata": {
      "byteLimit": 2048000,
      "rowLimit": 10000
     },
     "inputWidgets": {},
     "nuid": "0621e282-0284-4ed2-9378-42a8ade20d7f",
     "showTitle": false,
     "title": ""
    }
   },
   "source": [
    "### Q11 - Bonus\n",
    "\n",
    "Show the total number of delays for each `UniqueCarrier` for all the files shown below."
   ]
  },
  {
   "cell_type": "code",
   "execution_count": 0,
   "metadata": {
    "application/vnd.databricks.v1+cell": {
     "cellMetadata": {
      "byteLimit": 2048000,
      "rowLimit": 10000
     },
     "inputWidgets": {},
     "nuid": "e0fa7248-a22c-4943-9adb-502494fa9571",
     "showTitle": false,
     "title": ""
    }
   },
   "outputs": [
    {
     "output_type": "stream",
     "name": "stdout",
     "output_type": "stream",
     "text": [
      "Out[8]: [FileInfo(path='dbfs:/databricks-datasets/airlines/README.md', name='README.md', size=1089, modificationTime=1455505834000),\n FileInfo(path='dbfs:/databricks-datasets/airlines/_SUCCESS', name='_SUCCESS', size=0, modificationTime=1437224869000),\n FileInfo(path='dbfs:/databricks-datasets/airlines/part-00000', name='part-00000', size=67108879, modificationTime=1437224869000),\n FileInfo(path='dbfs:/databricks-datasets/airlines/part-00001', name='part-00001', size=67108862, modificationTime=1437224870000),\n FileInfo(path='dbfs:/databricks-datasets/airlines/part-00002', name='part-00002', size=67108930, modificationTime=1437224878000),\n FileInfo(path='dbfs:/databricks-datasets/airlines/part-00003', name='part-00003', size=67108804, modificationTime=1437224887000),\n FileInfo(path='dbfs:/databricks-datasets/airlines/part-00004', name='part-00004', size=67108908, modificationTime=1437224895000),\n FileInfo(path='dbfs:/databricks-datasets/airlines/part-00005', name='part-00005', size=67108890, modificationTime=1437224903000),\n FileInfo(path='dbfs:/databricks-datasets/airlines/part-00006', name='part-00006', size=67108825, modificationTime=1437224912000),\n FileInfo(path='dbfs:/databricks-datasets/airlines/part-00007', name='part-00007', size=67108880, modificationTime=1437224920000),\n FileInfo(path='dbfs:/databricks-datasets/airlines/part-00008', name='part-00008', size=67108832, modificationTime=1437224929000),\n FileInfo(path='dbfs:/databricks-datasets/airlines/part-00009', name='part-00009', size=67108857, modificationTime=1437224936000),\n FileInfo(path='dbfs:/databricks-datasets/airlines/part-00010', name='part-00010', size=67108931, modificationTime=1437224938000),\n FileInfo(path='dbfs:/databricks-datasets/airlines/part-00011', name='part-00011', size=67108872, modificationTime=1437224946000),\n FileInfo(path='dbfs:/databricks-datasets/airlines/part-00012', name='part-00012', size=67108791, modificationTime=1437224955000),\n FileInfo(path='dbfs:/databricks-datasets/airlines/part-00013', name='part-00013', size=67108856, modificationTime=1437224963000),\n FileInfo(path='dbfs:/databricks-datasets/airlines/part-00014', name='part-00014', size=67108855, modificationTime=1437224972000),\n FileInfo(path='dbfs:/databricks-datasets/airlines/part-00015', name='part-00015', size=67108875, modificationTime=1437224980000),\n FileInfo(path='dbfs:/databricks-datasets/airlines/part-00016', name='part-00016', size=67108898, modificationTime=1437224989000),\n FileInfo(path='dbfs:/databricks-datasets/airlines/part-00017', name='part-00017', size=67108873, modificationTime=1437224997000),\n FileInfo(path='dbfs:/databricks-datasets/airlines/part-00018', name='part-00018', size=67108881, modificationTime=1437225005000),\n FileInfo(path='dbfs:/databricks-datasets/airlines/part-00019', name='part-00019', size=67108829, modificationTime=1437225013000),\n FileInfo(path='dbfs:/databricks-datasets/airlines/part-00020', name='part-00020', size=67108863, modificationTime=1437225021000),\n FileInfo(path='dbfs:/databricks-datasets/airlines/part-00021', name='part-00021', size=67108868, modificationTime=1437225030000),\n FileInfo(path='dbfs:/databricks-datasets/airlines/part-00022', name='part-00022', size=67108827, modificationTime=1437225037000),\n FileInfo(path='dbfs:/databricks-datasets/airlines/part-00023', name='part-00023', size=67108926, modificationTime=1437225045000),\n FileInfo(path='dbfs:/databricks-datasets/airlines/part-00024', name='part-00024', size=67108885, modificationTime=1437225054000),\n FileInfo(path='dbfs:/databricks-datasets/airlines/part-00025', name='part-00025', size=67108843, modificationTime=1437225057000),\n FileInfo(path='dbfs:/databricks-datasets/airlines/part-00026', name='part-00026', size=67108837, modificationTime=1437225075000),\n FileInfo(path='dbfs:/databricks-datasets/airlines/part-00027', name='part-00027', size=67108911, modificationTime=1437225079000),\n FileInfo(path='dbfs:/databricks-datasets/airlines/part-00028', name='part-00028', size=67108776, modificationTime=1437225088000),\n FileInfo(path='dbfs:/databricks-datasets/airlines/part-00029', name='part-00029', size=67108929, modificationTime=1437225095000),\n FileInfo(path='dbfs:/databricks-datasets/airlines/part-00030', name='part-00030', size=67108839, modificationTime=1437225103000),\n FileInfo(path='dbfs:/databricks-datasets/airlines/part-00031', name='part-00031', size=67108867, modificationTime=1437225111000),\n FileInfo(path='dbfs:/databricks-datasets/airlines/part-00032', name='part-00032', size=67108865, modificationTime=1437225119000),\n FileInfo(path='dbfs:/databricks-datasets/airlines/part-00033', name='part-00033', size=67108864, modificationTime=1437225128000),\n FileInfo(path='dbfs:/databricks-datasets/airlines/part-00034', name='part-00034', size=67108854, modificationTime=1437225135000),\n FileInfo(path='dbfs:/databricks-datasets/airlines/part-00035', name='part-00035', size=67108878, modificationTime=1437225143000),\n FileInfo(path='dbfs:/databricks-datasets/airlines/part-00036', name='part-00036', size=67108847, modificationTime=1437225147000),\n FileInfo(path='dbfs:/databricks-datasets/airlines/part-00037', name='part-00037', size=67108895, modificationTime=1437225155000),\n FileInfo(path='dbfs:/databricks-datasets/airlines/part-00038', name='part-00038', size=67108885, modificationTime=1437225163000),\n FileInfo(path='dbfs:/databricks-datasets/airlines/part-00039', name='part-00039', size=67108791, modificationTime=1437225170000),\n FileInfo(path='dbfs:/databricks-datasets/airlines/part-00040', name='part-00040', size=67108856, modificationTime=1437225179000),\n FileInfo(path='dbfs:/databricks-datasets/airlines/part-00041', name='part-00041', size=67108917, modificationTime=1437225187000),\n FileInfo(path='dbfs:/databricks-datasets/airlines/part-00042', name='part-00042', size=67108862, modificationTime=1437225195000),\n FileInfo(path='dbfs:/databricks-datasets/airlines/part-00043', name='part-00043', size=67108881, modificationTime=1437225203000),\n FileInfo(path='dbfs:/databricks-datasets/airlines/part-00044', name='part-00044', size=67108840, modificationTime=1437225211000),\n FileInfo(path='dbfs:/databricks-datasets/airlines/part-00045', name='part-00045', size=67108854, modificationTime=1437225216000),\n FileInfo(path='dbfs:/databricks-datasets/airlines/part-00046', name='part-00046', size=67108826, modificationTime=1437225224000),\n FileInfo(path='dbfs:/databricks-datasets/airlines/part-00047', name='part-00047', size=67108941, modificationTime=1437225232000),\n FileInfo(path='dbfs:/databricks-datasets/airlines/part-00048', name='part-00048', size=67108820, modificationTime=1437225240000),\n FileInfo(path='dbfs:/databricks-datasets/airlines/part-00049', name='part-00049', size=67108841, modificationTime=1437225248000),\n FileInfo(path='dbfs:/databricks-datasets/airlines/part-00050', name='part-00050', size=67108950, modificationTime=1437225256000),\n FileInfo(path='dbfs:/databricks-datasets/airlines/part-00051', name='part-00051', size=67108855, modificationTime=1437225264000),\n FileInfo(path='dbfs:/databricks-datasets/airlines/part-00052', name='part-00052', size=67108774, modificationTime=1437225271000),\n FileInfo(path='dbfs:/databricks-datasets/airlines/part-00053', name='part-00053', size=67108878, modificationTime=1437225280000),\n FileInfo(path='dbfs:/databricks-datasets/airlines/part-00054', name='part-00054', size=67108853, modificationTime=1437225284000),\n FileInfo(path='dbfs:/databricks-datasets/airlines/part-00055', name='part-00055', size=67108874, modificationTime=1437225291000),\n FileInfo(path='dbfs:/databricks-datasets/airlines/part-00056', name='part-00056', size=67108907, modificationTime=1437225300000),\n FileInfo(path='dbfs:/databricks-datasets/airlines/part-00057', name='part-00057', size=67108839, modificationTime=1437225309000),\n FileInfo(path='dbfs:/databricks-datasets/airlines/part-00058', name='part-00058', size=67108936, modificationTime=1437225315000),\n FileInfo(path='dbfs:/databricks-datasets/airlines/part-00059', name='part-00059', size=67108850, modificationTime=1437225326000),\n FileInfo(path='dbfs:/databricks-datasets/airlines/part-00060', name='part-00060', size=67108809, modificationTime=1437225334000),\n FileInfo(path='dbfs:/databricks-datasets/airlines/part-00061', name='part-00061', size=67108882, modificationTime=1437225341000),\n FileInfo(path='dbfs:/databricks-datasets/airlines/part-00062', name='part-00062', size=67108852, modificationTime=1437225350000),\n FileInfo(path='dbfs:/databricks-datasets/airlines/part-00063', name='part-00063', size=67108829, modificationTime=1437225357000),\n FileInfo(path='dbfs:/databricks-datasets/airlines/part-00064', name='part-00064', size=67108864, modificationTime=1437225365000),\n FileInfo(path='dbfs:/databricks-datasets/airlines/part-00065', name='part-00065', size=67108938, modificationTime=1437225374000),\n FileInfo(path='dbfs:/databricks-datasets/airlines/part-00066', name='part-00066', size=67108815, modificationTime=1437225381000),\n FileInfo(path='dbfs:/databricks-datasets/airlines/part-00067', name='part-00067', size=67108876, modificationTime=1437225386000),\n FileInfo(path='dbfs:/databricks-datasets/airlines/part-00068', name='part-00068', size=67108847, modificationTime=1437225394000),\n FileInfo(path='dbfs:/databricks-datasets/airlines/part-00069', name='part-00069', size=67108925, modificationTime=1437225401000),\n FileInfo(path='dbfs:/databricks-datasets/airlines/part-00070', name='part-00070', size=67108802, modificationTime=1437225409000),\n FileInfo(path='dbfs:/databricks-datasets/airlines/part-00071', name='part-00071', size=67108923, modificationTime=1437225417000),\n FileInfo(path='dbfs:/databricks-datasets/airlines/part-00072', name='part-00072', size=67108848, modificationTime=1437225425000),\n FileInfo(path='dbfs:/databricks-datasets/airlines/part-00073', name='part-00073', size=67108891, modificationTime=1437225433000),\n FileInfo(path='dbfs:/databricks-datasets/airlines/part-00074', name='part-00074', size=67108785, modificationTime=1437225450000),\n FileInfo(path='dbfs:/databricks-datasets/airlines/part-00075', name='part-00075', size=67108860, modificationTime=1437225453000),\n FileInfo(path='dbfs:/databricks-datasets/airlines/part-00076', name='part-00076', size=67108885, modificationTime=1437225462000),\n FileInfo(path='dbfs:/databricks-datasets/airlines/part-00077', name='part-00077', size=67108867, modificationTime=1437225470000),\n FileInfo(path='dbfs:/databricks-datasets/airlines/part-00078', name='part-00078', size=67108929, modificationTime=1437225479000),\n FileInfo(path='dbfs:/databricks-datasets/airlines/part-00079', name='part-00079', size=67108764, modificationTime=1437225486000),\n FileInfo(path='dbfs:/databricks-datasets/airlines/part-00080', name='part-00080', size=67108944, modificationTime=1437225494000),\n FileInfo(path='dbfs:/databricks-datasets/airlines/part-00081', name='part-00081', size=67108849, modificationTime=1437225502000),\n FileInfo(path='dbfs:/databricks-datasets/airlines/part-00082', name='part-00082', size=67108835, modificationTime=1437225510000),\n FileInfo(path='dbfs:/databricks-datasets/airlines/part-00083', name='part-00083', size=67108874, modificationTime=1437225519000),\n FileInfo(path='dbfs:/databricks-datasets/airlines/part-00084', name='part-00084', size=67108900, modificationTime=1437225522000),\n FileInfo(path='dbfs:/databricks-datasets/airlines/part-00085', name='part-00085', size=67108832, modificationTime=1437225530000),\n FileInfo(path='dbfs:/databricks-datasets/airlines/part-00086', name='part-00086', size=67108888, modificationTime=1437225539000),\n FileInfo(path='dbfs:/databricks-datasets/airlines/part-00087', name='part-00087', size=67108835, modificationTime=1437225547000),\n FileInfo(path='dbfs:/databricks-datasets/airlines/part-00088', name='part-00088', size=67108835, modificationTime=1437225555000),\n FileInfo(path='dbfs:/databricks-datasets/airlines/part-00089', name='part-00089', size=67108879, modificationTime=1437225563000),\n FileInfo(path='dbfs:/databricks-datasets/airlines/part-00090', name='part-00090', size=67108918, modificationTime=1437225572000),\n FileInfo(path='dbfs:/databricks-datasets/airlines/part-00091', name='part-00091', size=67108830, modificationTime=1437225580000),\n FileInfo(path='dbfs:/databricks-datasets/airlines/part-00092', name='part-00092', size=67108826, modificationTime=1437225587000),\n FileInfo(path='dbfs:/databricks-datasets/airlines/part-00093', name='part-00093', size=67108954, modificationTime=1437225597000),\n FileInfo(path='dbfs:/databricks-datasets/airlines/part-00094', name='part-00094', size=67108786, modificationTime=1437225604000),\n FileInfo(path='dbfs:/databricks-datasets/airlines/part-00095', name='part-00095', size=67108919, modificationTime=1437225608000),\n FileInfo(path='dbfs:/databricks-datasets/airlines/part-00096', name='part-00096', size=67108820, modificationTime=1437225616000),\n FileInfo(path='dbfs:/databricks-datasets/airlines/part-00097', name='part-00097', size=67108864, modificationTime=1437225624000),\n FileInfo(path='dbfs:/databricks-datasets/airlines/part-00098', name='part-00098', size=67108886, modificationTime=1437225632000),\n FileInfo(path='dbfs:/databricks-datasets/airlines/part-00099', name='part-00099', size=67108833, modificationTime=1437225640000),\n FileInfo(path='dbfs:/databricks-datasets/airlines/part-00100', name='part-00100', size=67108879, modificationTime=1437225648000),\n FileInfo(path='dbfs:/databricks-datasets/airlines/part-00101', name='part-00101', size=67108845, modificationTime=1437225657000),\n FileInfo(path='dbfs:/databricks-datasets/airlines/part-00102', name='part-00102', size=67108940, modificationTime=1437225665000),\n FileInfo(path='dbfs:/databricks-datasets/airlines/part-00103', name='part-00103', size=67108789, modificationTime=1437225673000),\n FileInfo(path='dbfs:/databricks-datasets/airlines/part-00104', name='part-00104', size=67108847, modificationTime=1437225679000),\n FileInfo(path='dbfs:/databricks-datasets/airlines/part-00105', name='part-00105', size=67108902, modificationTime=1437225683000),\n FileInfo(path='dbfs:/databricks-datasets/airlines/part-00106', name='part-00106', size=67108863, modificationTime=1437225692000),\n FileInfo(path='dbfs:/databricks-datasets/airlines/part-00107', name='part-00107', size=67108862, modificationTime=1437225700000),\n FileInfo(path='dbfs:/databricks-datasets/airlines/part-00108', name='part-00108', size=67108845, modificationTime=1437225708000),\n FileInfo(path='dbfs:/databricks-datasets/airlines/part-00109', name='part-00109', size=67560179, modificationTime=1437225716000),\n FileInfo(path='dbfs:/databricks-datasets/airlines/part-00110', name='part-00110', size=67776993, modificationTime=1437225725000),\n FileInfo(path='dbfs:/databricks-datasets/airlines/part-00111', name='part-00111', size=67780358, modificationTime=1437225733000),\n FileInfo(path='dbfs:/databricks-datasets/airlines/part-00112', name='part-00112', size=67876218, modificationTime=1437225742000),\n FileInfo(path='dbfs:/databricks-datasets/airlines/part-00113', name='part-00113', size=67803953, modificationTime=1437225748000),\n FileInfo(path='dbfs:/databricks-datasets/airlines/part-00114', name='part-00114', size=67912915, modificationTime=1437225756000),\n FileInfo(path='dbfs:/databricks-datasets/airlines/part-00115', name='part-00115', size=67779472, modificationTime=1437225762000),\n FileInfo(path='dbfs:/databricks-datasets/airlines/part-00116', name='part-00116', size=67928061, modificationTime=1437225770000),\n FileInfo(path='dbfs:/databricks-datasets/airlines/part-00117', name='part-00117', size=67758334, modificationTime=1437225778000),\n FileInfo(path='dbfs:/databricks-datasets/airlines/part-00118', name='part-00118', size=67880129, modificationTime=1437225788000),\n FileInfo(path='dbfs:/databricks-datasets/airlines/part-00119', name='part-00119', size=67699357, modificationTime=1437225798000),\n FileInfo(path='dbfs:/databricks-datasets/airlines/part-00120', name='part-00120', size=67493959, modificationTime=1437225807000),\n FileInfo(path='dbfs:/databricks-datasets/airlines/part-00121', name='part-00121', size=67108916, modificationTime=1437225813000),\n FileInfo(path='dbfs:/databricks-datasets/airlines/part-00122', name='part-00122', size=67108850, modificationTime=1437225820000),\n FileInfo(path='dbfs:/databricks-datasets/airlines/part-00123', name='part-00123', size=67108895, modificationTime=1437225828000),\n FileInfo(path='dbfs:/databricks-datasets/airlines/part-00124', name='part-00124', size=67108848, modificationTime=1437225836000),\n FileInfo(path='dbfs:/databricks-datasets/airlines/part-00125', name='part-00125', size=67108893, modificationTime=1437225845000),\n FileInfo(path='dbfs:/databricks-datasets/airlines/part-00126', name='part-00126', size=67108834, modificationTime=1437225854000),\n FileInfo(path='dbfs:/databricks-datasets/airlines/part-00127', name='part-00127', size=67108857, modificationTime=1437225861000),\n FileInfo(path='dbfs:/databricks-datasets/airlines/part-00128', name='part-00128', size=67108826, modificationTime=1437225868000),\n FileInfo(path='dbfs:/databricks-datasets/airlines/part-00129', name='part-00129', size=67108852, modificationTime=1437225875000),\n FileInfo(path='dbfs:/databricks-datasets/airlines/part-00130', name='part-00130', size=67108883, modificationTime=1437225882000),\n FileInfo(path='dbfs:/databricks-datasets/airlines/part-00131', name='part-00131', size=67108852, modificationTime=1437225890000),\n FileInfo(path='dbfs:/databricks-datasets/airlines/part-00132', name='part-00132', size=67108939, modificationTime=1437225898000),\n FileInfo(path='dbfs:/databricks-datasets/airlines/part-00133', name='part-00133', size=67108833, modificationTime=1437225906000),\n FileInfo(path='dbfs:/databricks-datasets/airlines/part-00134', name='part-00134', size=67108864, modificationTime=1437225914000),\n FileInfo(path='dbfs:/databricks-datasets/airlines/part-00135', name='part-00135', size=67108821, modificationTime=1437225921000),\n FileInfo(path='dbfs:/databricks-datasets/airlines/part-00136', name='part-00136', size=67108919, modificationTime=1437225929000),\n FileInfo(path='dbfs:/databricks-datasets/airlines/part-00137', name='part-00137', size=67108861, modificationTime=1437225937000),\n FileInfo(path='dbfs:/databricks-datasets/airlines/part-00138', name='part-00138', size=67108855, modificationTime=1437225943000),\n FileInfo(path='dbfs:/databricks-datasets/airlines/part-00139', name='part-00139', size=67108841, modificationTime=1437225950000),\n FileInfo(path='dbfs:/databricks-datasets/airlines/part-00140', name='part-00140', size=67108891, modificationTime=1437225958000),\n FileInfo(path='dbfs:/databricks-datasets/airlines/part-00141', name='part-00141', size=67108817, modificationTime=1437225966000),\n FileInfo(path='dbfs:/databricks-datasets/airlines/part-00142', name='part-00142', size=67108929, modificationTime=1437225973000),\n FileInfo(path='dbfs:/databricks-datasets/airlines/part-00143', name='part-00143', size=67108819, modificationTime=1437225982000),\n FileInfo(path='dbfs:/databricks-datasets/airlines/part-00144', name='part-00144', size=67108917, modificationTime=1437225992000),\n FileInfo(path='dbfs:/databricks-datasets/airlines/part-00145', name='part-00145', size=67108852, modificationTime=1437225999000),\n FileInfo(path='dbfs:/databricks-datasets/airlines/part-00146', name='part-00146', size=67108839, modificationTime=1437226006000),\n FileInfo(path='dbfs:/databricks-datasets/airlines/part-00147', name='part-00147', size=67108859, modificationTime=1437226014000),\n FileInfo(path='dbfs:/databricks-datasets/airlines/part-00148', name='part-00148', size=67108910, modificationTime=1437226022000),\n FileInfo(path='dbfs:/databricks-datasets/airlines/part-00149', name='part-00149', size=67108799, modificationTime=1437226030000),\n FileInfo(path='dbfs:/databricks-datasets/airlines/part-00150', name='part-00150', size=67108835, modificationTime=1437226037000),\n FileInfo(path='dbfs:/databricks-datasets/airlines/part-00151', name='part-00151', size=67108876, modificationTime=1437226044000),\n FileInfo(path='dbfs:/databricks-datasets/airlines/part-00152', name='part-00152', size=67108922, modificationTime=1437226052000),\n FileInfo(path='dbfs:/databricks-datasets/airlines/part-00153', name='part-00153', size=67108813, modificationTime=1437226060000),\n FileInfo(path='dbfs:/databricks-datasets/airlines/part-00154', name='part-00154', size=67108888, modificationTime=1437226067000),\n FileInfo(path='dbfs:/databricks-datasets/airlines/part-00155', name='part-00155', size=67108882, modificationTime=1437226074000),\n FileInfo(path='dbfs:/databricks-datasets/airlines/part-00156', name='part-00156', size=67108802, modificationTime=1437226082000),\n FileInfo(path='dbfs:/databricks-datasets/airlines/part-00157', name='part-00157', size=67108867, modificationTime=1437226090000),\n FileInfo(path='dbfs:/databricks-datasets/airlines/part-00158', name='part-00158', size=67108900, modificationTime=1437226098000),\n FileInfo(path='dbfs:/databricks-datasets/airlines/part-00159', name='part-00159', size=67108881, modificationTime=1437226105000),\n FileInfo(path='dbfs:/databricks-datasets/airlines/part-00160', name='part-00160', size=67108835, modificationTime=1437226112000),\n FileInfo(path='dbfs:/databricks-datasets/airlines/part-00161', name='part-00161', size=67108873, modificationTime=1437226120000),\n FileInfo(path='dbfs:/databricks-datasets/airlines/part-00162', name='part-00162', size=67108840, modificationTime=1437226128000),\n FileInfo(path='dbfs:/databricks-datasets/airlines/part-00163', name='part-00163', size=67108881, modificationTime=1437226134000),\n FileInfo(path='dbfs:/databricks-datasets/airlines/part-00164', name='part-00164', size=67108903, modificationTime=1437226142000),\n FileInfo(path='dbfs:/databricks-datasets/airlines/part-00165', name='part-00165', size=67108844, modificationTime=1437226150000),\n FileInfo(path='dbfs:/databricks-datasets/airlines/part-00166', name='part-00166', size=67108814, modificationTime=1437226158000),\n FileInfo(path='dbfs:/databricks-datasets/airlines/part-00167', name='part-00167', size=67108955, modificationTime=1437226166000),\n FileInfo(path='dbfs:/databricks-datasets/airlines/part-00168', name='part-00168', size=67108844, modificationTime=1437226173000),\n FileInfo(path='dbfs:/databricks-datasets/airlines/part-00169', name='part-00169', size=67108802, modificationTime=1437226179000),\n FileInfo(path='dbfs:/databricks-datasets/airlines/part-00170', name='part-00170', size=67108885, modificationTime=1437226187000),\n FileInfo(path='dbfs:/databricks-datasets/airlines/part-00171', name='part-00171', size=67108870, modificationTime=1437226196000),\n FileInfo(path='dbfs:/databricks-datasets/airlines/part-00172', name='part-00172', size=67108880, modificationTime=1437226202000),\n FileInfo(path='dbfs:/databricks-datasets/airlines/part-00173', name='part-00173', size=67108846, modificationTime=1437226210000),\n FileInfo(path='dbfs:/databricks-datasets/airlines/part-00174', name='part-00174', size=67108901, modificationTime=1437226218000),\n FileInfo(path='dbfs:/databricks-datasets/airlines/part-00175', name='part-00175', size=67108817, modificationTime=1437226226000),\n FileInfo(path='dbfs:/databricks-datasets/airlines/part-00176', name='part-00176', size=67108876, modificationTime=1437226233000),\n FileInfo(path='dbfs:/databricks-datasets/airlines/part-00177', name='part-00177', size=67108910, modificationTime=1437226241000),\n FileInfo(path='dbfs:/databricks-datasets/airlines/part-00178', name='part-00178', size=67108807, modificationTime=1437226247000),\n FileInfo(path='dbfs:/databricks-datasets/airlines/part-00179', name='part-00179', size=67108857, modificationTime=1437226255000),\n FileInfo(path='dbfs:/databricks-datasets/airlines/part-00180', name='part-00180', size=67108935, modificationTime=1437226263000),\n FileInfo(path='dbfs:/databricks-datasets/airlines/part-00181', name='part-00181', size=67108817, modificationTime=1437226270000),\n FileInfo(path='dbfs:/databricks-datasets/airlines/part-00182', name='part-00182', size=67108893, modificationTime=1437226277000),\n FileInfo(path='dbfs:/databricks-datasets/airlines/part-00183', name='part-00183', size=67108898, modificationTime=1437226285000),\n FileInfo(path='dbfs:/databricks-datasets/airlines/part-00184', name='part-00184', size=67108831, modificationTime=1437226294000),\n FileInfo(path='dbfs:/databricks-datasets/airlines/part-00185', name='part-00185', size=67108857, modificationTime=1437226301000),\n FileInfo(path='dbfs:/databricks-datasets/airlines/part-00186', name='part-00186', size=67108843, modificationTime=1437226308000),\n FileInfo(path='dbfs:/databricks-datasets/airlines/part-00187', name='part-00187', size=67108909, modificationTime=1437226314000),\n FileInfo(path='dbfs:/databricks-datasets/airlines/part-00188', name='part-00188', size=67108806, modificationTime=1437\n\n*** WARNING: max output size exceeded, skipping output. ***\n\nbricks-datasets/airlines/part-00807', name='part-00807', size=67108934, modificationTime=1437231183000),\n FileInfo(path='dbfs:/databricks-datasets/airlines/part-00808', name='part-00808', size=67108828, modificationTime=1437231191000),\n FileInfo(path='dbfs:/databricks-datasets/airlines/part-00809', name='part-00809', size=67108903, modificationTime=1437231199000),\n FileInfo(path='dbfs:/databricks-datasets/airlines/part-00810', name='part-00810', size=67108827, modificationTime=1437231207000),\n FileInfo(path='dbfs:/databricks-datasets/airlines/part-00811', name='part-00811', size=67108890, modificationTime=1437231215000),\n FileInfo(path='dbfs:/databricks-datasets/airlines/part-00812', name='part-00812', size=67108836, modificationTime=1437231223000),\n FileInfo(path='dbfs:/databricks-datasets/airlines/part-00813', name='part-00813', size=67108924, modificationTime=1437231233000),\n FileInfo(path='dbfs:/databricks-datasets/airlines/part-00814', name='part-00814', size=67108816, modificationTime=1437231242000),\n FileInfo(path='dbfs:/databricks-datasets/airlines/part-00815', name='part-00815', size=67108863, modificationTime=1437231249000),\n FileInfo(path='dbfs:/databricks-datasets/airlines/part-00816', name='part-00816', size=67108904, modificationTime=1437231258000),\n FileInfo(path='dbfs:/databricks-datasets/airlines/part-00817', name='part-00817', size=67108790, modificationTime=1437231265000),\n FileInfo(path='dbfs:/databricks-datasets/airlines/part-00818', name='part-00818', size=67108921, modificationTime=1437231273000),\n FileInfo(path='dbfs:/databricks-datasets/airlines/part-00819', name='part-00819', size=67108837, modificationTime=1437231282000),\n FileInfo(path='dbfs:/databricks-datasets/airlines/part-00820', name='part-00820', size=67108870, modificationTime=1437231290000),\n FileInfo(path='dbfs:/databricks-datasets/airlines/part-00821', name='part-00821', size=67108902, modificationTime=1437231297000),\n FileInfo(path='dbfs:/databricks-datasets/airlines/part-00822', name='part-00822', size=67108818, modificationTime=1437231303000),\n FileInfo(path='dbfs:/databricks-datasets/airlines/part-00823', name='part-00823', size=67108915, modificationTime=1437231310000),\n FileInfo(path='dbfs:/databricks-datasets/airlines/part-00824', name='part-00824', size=67108870, modificationTime=1437231319000),\n FileInfo(path='dbfs:/databricks-datasets/airlines/part-00825', name='part-00825', size=67108779, modificationTime=1437231326000),\n FileInfo(path='dbfs:/databricks-datasets/airlines/part-00826', name='part-00826', size=67108862, modificationTime=1437231334000),\n FileInfo(path='dbfs:/databricks-datasets/airlines/part-00827', name='part-00827', size=67108902, modificationTime=1437231343000),\n FileInfo(path='dbfs:/databricks-datasets/airlines/part-00828', name='part-00828', size=67108866, modificationTime=1437231352000),\n FileInfo(path='dbfs:/databricks-datasets/airlines/part-00829', name='part-00829', size=67108837, modificationTime=1437231361000),\n FileInfo(path='dbfs:/databricks-datasets/airlines/part-00830', name='part-00830', size=67108873, modificationTime=1437231371000),\n FileInfo(path='dbfs:/databricks-datasets/airlines/part-00831', name='part-00831', size=67108847, modificationTime=1437231377000),\n FileInfo(path='dbfs:/databricks-datasets/airlines/part-00832', name='part-00832', size=67108906, modificationTime=1437231384000),\n FileInfo(path='dbfs:/databricks-datasets/airlines/part-00833', name='part-00833', size=67108814, modificationTime=1437231393000),\n FileInfo(path='dbfs:/databricks-datasets/airlines/part-00834', name='part-00834', size=67108905, modificationTime=1437231401000),\n FileInfo(path='dbfs:/databricks-datasets/airlines/part-00835', name='part-00835', size=67108896, modificationTime=1437231408000),\n FileInfo(path='dbfs:/databricks-datasets/airlines/part-00836', name='part-00836', size=67108855, modificationTime=1437231415000),\n FileInfo(path='dbfs:/databricks-datasets/airlines/part-00837', name='part-00837', size=67108879, modificationTime=1437231422000),\n FileInfo(path='dbfs:/databricks-datasets/airlines/part-00838', name='part-00838', size=67108874, modificationTime=1437231431000),\n FileInfo(path='dbfs:/databricks-datasets/airlines/part-00839', name='part-00839', size=67108803, modificationTime=1437231441000),\n FileInfo(path='dbfs:/databricks-datasets/airlines/part-00840', name='part-00840', size=67108854, modificationTime=1437231449000),\n FileInfo(path='dbfs:/databricks-datasets/airlines/part-00841', name='part-00841', size=67108910, modificationTime=1437231454000),\n FileInfo(path='dbfs:/databricks-datasets/airlines/part-00842', name='part-00842', size=67108812, modificationTime=1437231462000),\n FileInfo(path='dbfs:/databricks-datasets/airlines/part-00843', name='part-00843', size=67108905, modificationTime=1437231470000),\n FileInfo(path='dbfs:/databricks-datasets/airlines/part-00844', name='part-00844', size=67108807, modificationTime=1437231477000),\n FileInfo(path='dbfs:/databricks-datasets/airlines/part-00845', name='part-00845', size=67108951, modificationTime=1437231487000),\n FileInfo(path='dbfs:/databricks-datasets/airlines/part-00846', name='part-00846', size=67108794, modificationTime=1437231494000),\n FileInfo(path='dbfs:/databricks-datasets/airlines/part-00847', name='part-00847', size=67108874, modificationTime=1437231502000),\n FileInfo(path='dbfs:/databricks-datasets/airlines/part-00848', name='part-00848', size=67108854, modificationTime=1437231510000),\n FileInfo(path='dbfs:/databricks-datasets/airlines/part-00849', name='part-00849', size=67108876, modificationTime=1437231518000),\n FileInfo(path='dbfs:/databricks-datasets/airlines/part-00850', name='part-00850', size=67108927, modificationTime=1437231526000),\n FileInfo(path='dbfs:/databricks-datasets/airlines/part-00851', name='part-00851', size=67108815, modificationTime=1437231537000),\n FileInfo(path='dbfs:/databricks-datasets/airlines/part-00852', name='part-00852', size=67108879, modificationTime=1437231544000),\n FileInfo(path='dbfs:/databricks-datasets/airlines/part-00853', name='part-00853', size=67108868, modificationTime=1437231551000),\n FileInfo(path='dbfs:/databricks-datasets/airlines/part-00854', name='part-00854', size=67108858, modificationTime=1437231555000),\n FileInfo(path='dbfs:/databricks-datasets/airlines/part-00855', name='part-00855', size=67108904, modificationTime=1437231563000),\n FileInfo(path='dbfs:/databricks-datasets/airlines/part-00856', name='part-00856', size=67108772, modificationTime=1437231572000),\n FileInfo(path='dbfs:/databricks-datasets/airlines/part-00857', name='part-00857', size=67108939, modificationTime=1437231579000),\n FileInfo(path='dbfs:/databricks-datasets/airlines/part-00858', name='part-00858', size=67108840, modificationTime=1437231588000),\n FileInfo(path='dbfs:/databricks-datasets/airlines/part-00859', name='part-00859', size=67108840, modificationTime=1437231596000),\n FileInfo(path='dbfs:/databricks-datasets/airlines/part-00860', name='part-00860', size=67108868, modificationTime=1437231604000),\n FileInfo(path='dbfs:/databricks-datasets/airlines/part-00861', name='part-00861', size=67108880, modificationTime=1437231612000),\n FileInfo(path='dbfs:/databricks-datasets/airlines/part-00862', name='part-00862', size=67108888, modificationTime=1437231619000),\n FileInfo(path='dbfs:/databricks-datasets/airlines/part-00863', name='part-00863', size=67108861, modificationTime=1437231626000),\n FileInfo(path='dbfs:/databricks-datasets/airlines/part-00864', name='part-00864', size=67108863, modificationTime=1437231634000),\n FileInfo(path='dbfs:/databricks-datasets/airlines/part-00865', name='part-00865', size=67108878, modificationTime=1437231640000),\n FileInfo(path='dbfs:/databricks-datasets/airlines/part-00866', name='part-00866', size=67108794, modificationTime=1437231648000),\n FileInfo(path='dbfs:/databricks-datasets/airlines/part-00867', name='part-00867', size=67108893, modificationTime=1437231655000),\n FileInfo(path='dbfs:/databricks-datasets/airlines/part-00868', name='part-00868', size=67108909, modificationTime=1437231664000),\n FileInfo(path='dbfs:/databricks-datasets/airlines/part-00869', name='part-00869', size=67108871, modificationTime=1437231672000),\n FileInfo(path='dbfs:/databricks-datasets/airlines/part-00870', name='part-00870', size=67108784, modificationTime=1437231680000),\n FileInfo(path='dbfs:/databricks-datasets/airlines/part-00871', name='part-00871', size=67108878, modificationTime=1437231686000),\n FileInfo(path='dbfs:/databricks-datasets/airlines/part-00872', name='part-00872', size=67108852, modificationTime=1437231695000),\n FileInfo(path='dbfs:/databricks-datasets/airlines/part-00873', name='part-00873', size=67108946, modificationTime=1437231702000),\n FileInfo(path='dbfs:/databricks-datasets/airlines/part-00874', name='part-00874', size=67108789, modificationTime=1437231713000),\n FileInfo(path='dbfs:/databricks-datasets/airlines/part-00875', name='part-00875', size=67108867, modificationTime=1437231720000),\n FileInfo(path='dbfs:/databricks-datasets/airlines/part-00876', name='part-00876', size=67108922, modificationTime=1437231728000),\n FileInfo(path='dbfs:/databricks-datasets/airlines/part-00877', name='part-00877', size=67596536, modificationTime=1437231734000),\n FileInfo(path='dbfs:/databricks-datasets/airlines/part-00878', name='part-00878', size=67768996, modificationTime=1437231742000),\n FileInfo(path='dbfs:/databricks-datasets/airlines/part-00879', name='part-00879', size=67881068, modificationTime=1437231750000),\n FileInfo(path='dbfs:/databricks-datasets/airlines/part-00880', name='part-00880', size=67777178, modificationTime=1437231759000),\n FileInfo(path='dbfs:/databricks-datasets/airlines/part-00881', name='part-00881', size=67911030, modificationTime=1437231766000),\n FileInfo(path='dbfs:/databricks-datasets/airlines/part-00882', name='part-00882', size=67825828, modificationTime=1437231775000),\n FileInfo(path='dbfs:/databricks-datasets/airlines/part-00883', name='part-00883', size=67774851, modificationTime=1437231783000),\n FileInfo(path='dbfs:/databricks-datasets/airlines/part-00884', name='part-00884', size=67998573, modificationTime=1437231789000),\n FileInfo(path='dbfs:/databricks-datasets/airlines/part-00885', name='part-00885', size=67798303, modificationTime=1437231797000),\n FileInfo(path='dbfs:/databricks-datasets/airlines/part-00886', name='part-00886', size=67755767, modificationTime=1437231805000),\n FileInfo(path='dbfs:/databricks-datasets/airlines/part-00887', name='part-00887', size=67773693, modificationTime=1437231812000),\n FileInfo(path='dbfs:/databricks-datasets/airlines/part-00888', name='part-00888', size=67388099, modificationTime=1437231820000),\n FileInfo(path='dbfs:/databricks-datasets/airlines/part-00889', name='part-00889', size=67108855, modificationTime=1437231828000),\n FileInfo(path='dbfs:/databricks-datasets/airlines/part-00890', name='part-00890', size=67108820, modificationTime=1437231834000),\n FileInfo(path='dbfs:/databricks-datasets/airlines/part-00891', name='part-00891', size=67108942, modificationTime=1437231842000),\n FileInfo(path='dbfs:/databricks-datasets/airlines/part-00892', name='part-00892', size=67108778, modificationTime=1437231851000),\n FileInfo(path='dbfs:/databricks-datasets/airlines/part-00893', name='part-00893', size=67108868, modificationTime=1437231858000),\n FileInfo(path='dbfs:/databricks-datasets/airlines/part-00894', name='part-00894', size=67108915, modificationTime=1437231866000),\n FileInfo(path='dbfs:/databricks-datasets/airlines/part-00895', name='part-00895', size=67108887, modificationTime=1437231873000),\n FileInfo(path='dbfs:/databricks-datasets/airlines/part-00896', name='part-00896', size=67108815, modificationTime=1437231880000),\n FileInfo(path='dbfs:/databricks-datasets/airlines/part-00897', name='part-00897', size=67108841, modificationTime=1437231888000),\n FileInfo(path='dbfs:/databricks-datasets/airlines/part-00898', name='part-00898', size=67108876, modificationTime=1437231895000),\n FileInfo(path='dbfs:/databricks-datasets/airlines/part-00899', name='part-00899', size=67108920, modificationTime=1437231902000),\n FileInfo(path='dbfs:/databricks-datasets/airlines/part-00900', name='part-00900', size=67108783, modificationTime=1437231910000),\n FileInfo(path='dbfs:/databricks-datasets/airlines/part-00901', name='part-00901', size=67108943, modificationTime=1437231918000),\n FileInfo(path='dbfs:/databricks-datasets/airlines/part-00902', name='part-00902', size=67108833, modificationTime=1437231926000),\n FileInfo(path='dbfs:/databricks-datasets/airlines/part-00903', name='part-00903', size=67108833, modificationTime=1437231933000),\n FileInfo(path='dbfs:/databricks-datasets/airlines/part-00904', name='part-00904', size=67108854, modificationTime=1437231941000),\n FileInfo(path='dbfs:/databricks-datasets/airlines/part-00905', name='part-00905', size=67108905, modificationTime=1437231949000),\n FileInfo(path='dbfs:/databricks-datasets/airlines/part-00906', name='part-00906', size=67108841, modificationTime=1437231957000),\n FileInfo(path='dbfs:/databricks-datasets/airlines/part-00907', name='part-00907', size=67108879, modificationTime=1437231964000),\n FileInfo(path='dbfs:/databricks-datasets/airlines/part-00908', name='part-00908', size=67108858, modificationTime=1437231970000),\n FileInfo(path='dbfs:/databricks-datasets/airlines/part-00909', name='part-00909', size=67108890, modificationTime=1437231978000),\n FileInfo(path='dbfs:/databricks-datasets/airlines/part-00910', name='part-00910', size=67108827, modificationTime=1437231986000),\n FileInfo(path='dbfs:/databricks-datasets/airlines/part-00911', name='part-00911', size=67108870, modificationTime=1437231994000),\n FileInfo(path='dbfs:/databricks-datasets/airlines/part-00912', name='part-00912', size=67108880, modificationTime=1437232001000),\n FileInfo(path='dbfs:/databricks-datasets/airlines/part-00913', name='part-00913', size=67108827, modificationTime=1437232009000),\n FileInfo(path='dbfs:/databricks-datasets/airlines/part-00914', name='part-00914', size=67108868, modificationTime=1437232016000),\n FileInfo(path='dbfs:/databricks-datasets/airlines/part-00915', name='part-00915', size=67108938, modificationTime=1437232025000),\n FileInfo(path='dbfs:/databricks-datasets/airlines/part-00916', name='part-00916', size=67108806, modificationTime=1437232033000),\n FileInfo(path='dbfs:/databricks-datasets/airlines/part-00917', name='part-00917', size=67108874, modificationTime=1437232046000),\n FileInfo(path='dbfs:/databricks-datasets/airlines/part-00918', name='part-00918', size=67108828, modificationTime=1437232055000),\n FileInfo(path='dbfs:/databricks-datasets/airlines/part-00919', name='part-00919', size=67108893, modificationTime=1437232062000),\n FileInfo(path='dbfs:/databricks-datasets/airlines/part-00920', name='part-00920', size=67108926, modificationTime=1437232071000),\n FileInfo(path='dbfs:/databricks-datasets/airlines/part-00921', name='part-00921', size=67108815, modificationTime=1437232075000),\n FileInfo(path='dbfs:/databricks-datasets/airlines/part-00922', name='part-00922', size=67108901, modificationTime=1437232082000),\n FileInfo(path='dbfs:/databricks-datasets/airlines/part-00923', name='part-00923', size=67108867, modificationTime=1437232091000),\n FileInfo(path='dbfs:/databricks-datasets/airlines/part-00924', name='part-00924', size=67108772, modificationTime=1437232099000),\n FileInfo(path='dbfs:/databricks-datasets/airlines/part-00925', name='part-00925', size=67108946, modificationTime=1437232107000),\n FileInfo(path='dbfs:/databricks-datasets/airlines/part-00926', name='part-00926', size=67108847, modificationTime=1437232114000),\n FileInfo(path='dbfs:/databricks-datasets/airlines/part-00927', name='part-00927', size=67108896, modificationTime=1437232122000),\n FileInfo(path='dbfs:/databricks-datasets/airlines/part-00928', name='part-00928', size=67108826, modificationTime=1437232130000),\n FileInfo(path='dbfs:/databricks-datasets/airlines/part-00929', name='part-00929', size=67108885, modificationTime=1437232138000),\n FileInfo(path='dbfs:/databricks-datasets/airlines/part-00930', name='part-00930', size=67108796, modificationTime=1437232143000),\n FileInfo(path='dbfs:/databricks-datasets/airlines/part-00931', name='part-00931', size=67108913, modificationTime=1437232150000),\n FileInfo(path='dbfs:/databricks-datasets/airlines/part-00932', name='part-00932', size=67108806, modificationTime=1437232158000),\n FileInfo(path='dbfs:/databricks-datasets/airlines/part-00933', name='part-00933', size=67108903, modificationTime=1437232167000),\n FileInfo(path='dbfs:/databricks-datasets/airlines/part-00934', name='part-00934', size=67108868, modificationTime=1437232175000),\n FileInfo(path='dbfs:/databricks-datasets/airlines/part-00935', name='part-00935', size=67108921, modificationTime=1437232183000),\n FileInfo(path='dbfs:/databricks-datasets/airlines/part-00936', name='part-00936', size=67108836, modificationTime=1437232190000),\n FileInfo(path='dbfs:/databricks-datasets/airlines/part-00937', name='part-00937', size=67108803, modificationTime=1437232198000),\n FileInfo(path='dbfs:/databricks-datasets/airlines/part-00938', name='part-00938', size=67108915, modificationTime=1437232207000),\n FileInfo(path='dbfs:/databricks-datasets/airlines/part-00939', name='part-00939', size=67108828, modificationTime=1437232216000),\n FileInfo(path='dbfs:/databricks-datasets/airlines/part-00940', name='part-00940', size=67108923, modificationTime=1437232223000),\n FileInfo(path='dbfs:/databricks-datasets/airlines/part-00941', name='part-00941', size=67108836, modificationTime=1437232226000),\n FileInfo(path='dbfs:/databricks-datasets/airlines/part-00942', name='part-00942', size=67108869, modificationTime=1437232234000),\n FileInfo(path='dbfs:/databricks-datasets/airlines/part-00943', name='part-00943', size=67108854, modificationTime=1437232243000),\n FileInfo(path='dbfs:/databricks-datasets/airlines/part-00944', name='part-00944', size=67108868, modificationTime=1437232251000),\n FileInfo(path='dbfs:/databricks-datasets/airlines/part-00945', name='part-00945', size=67108844, modificationTime=1437232260000),\n FileInfo(path='dbfs:/databricks-datasets/airlines/part-00946', name='part-00946', size=67108915, modificationTime=1437232269000),\n FileInfo(path='dbfs:/databricks-datasets/airlines/part-00947', name='part-00947', size=67108777, modificationTime=1437232277000),\n FileInfo(path='dbfs:/databricks-datasets/airlines/part-00948', name='part-00948', size=67108958, modificationTime=1437232285000),\n FileInfo(path='dbfs:/databricks-datasets/airlines/part-00949', name='part-00949', size=67108786, modificationTime=1437232293000),\n FileInfo(path='dbfs:/databricks-datasets/airlines/part-00950', name='part-00950', size=67108863, modificationTime=1437232300000),\n FileInfo(path='dbfs:/databricks-datasets/airlines/part-00951', name='part-00951', size=67108925, modificationTime=1437232303000),\n FileInfo(path='dbfs:/databricks-datasets/airlines/part-00952', name='part-00952', size=67108879, modificationTime=1437232311000),\n FileInfo(path='dbfs:/databricks-datasets/airlines/part-00953', name='part-00953', size=67108777, modificationTime=1437232320000),\n FileInfo(path='dbfs:/databricks-datasets/airlines/part-00954', name='part-00954', size=67108911, modificationTime=1437232328000),\n FileInfo(path='dbfs:/databricks-datasets/airlines/part-00955', name='part-00955', size=67108860, modificationTime=1437232336000),\n FileInfo(path='dbfs:/databricks-datasets/airlines/part-00956', name='part-00956', size=67108888, modificationTime=1437232345000),\n FileInfo(path='dbfs:/databricks-datasets/airlines/part-00957', name='part-00957', size=67108812, modificationTime=1437232353000),\n FileInfo(path='dbfs:/databricks-datasets/airlines/part-00958', name='part-00958', size=67108943, modificationTime=1437232361000),\n FileInfo(path='dbfs:/databricks-datasets/airlines/part-00959', name='part-00959', size=67108770, modificationTime=1437232370000),\n FileInfo(path='dbfs:/databricks-datasets/airlines/part-00960', name='part-00960', size=67108890, modificationTime=1437232378000),\n FileInfo(path='dbfs:/databricks-datasets/airlines/part-00961', name='part-00961', size=67108892, modificationTime=1437232387000),\n FileInfo(path='dbfs:/databricks-datasets/airlines/part-00962', name='part-00962', size=67108828, modificationTime=1437232394000),\n FileInfo(path='dbfs:/databricks-datasets/airlines/part-00963', name='part-00963', size=67108941, modificationTime=1437232402000),\n FileInfo(path='dbfs:/databricks-datasets/airlines/part-00964', name='part-00964', size=67108840, modificationTime=1437232411000),\n FileInfo(path='dbfs:/databricks-datasets/airlines/part-00965', name='part-00965', size=67108816, modificationTime=1437232417000),\n FileInfo(path='dbfs:/databricks-datasets/airlines/part-00966', name='part-00966', size=67108908, modificationTime=1437232422000),\n FileInfo(path='dbfs:/databricks-datasets/airlines/part-00967', name='part-00967', size=67108845, modificationTime=1437232430000),\n FileInfo(path='dbfs:/databricks-datasets/airlines/part-00968', name='part-00968', size=67108879, modificationTime=1437232438000),\n FileInfo(path='dbfs:/databricks-datasets/airlines/part-00969', name='part-00969', size=67108888, modificationTime=1437232446000),\n FileInfo(path='dbfs:/databricks-datasets/airlines/part-00970', name='part-00970', size=67108819, modificationTime=1437232455000),\n FileInfo(path='dbfs:/databricks-datasets/airlines/part-00971', name='part-00971', size=67108874, modificationTime=1437232463000),\n FileInfo(path='dbfs:/databricks-datasets/airlines/part-00972', name='part-00972', size=67108808, modificationTime=1437232479000),\n FileInfo(path='dbfs:/databricks-datasets/airlines/part-00973', name='part-00973', size=67108868, modificationTime=1437232490000),\n FileInfo(path='dbfs:/databricks-datasets/airlines/part-00974', name='part-00974', size=67108869, modificationTime=1437232506000),\n FileInfo(path='dbfs:/databricks-datasets/airlines/part-00975', name='part-00975', size=67108906, modificationTime=1437232515000),\n FileInfo(path='dbfs:/databricks-datasets/airlines/part-00976', name='part-00976', size=67108905, modificationTime=1437232539000),\n FileInfo(path='dbfs:/databricks-datasets/airlines/part-00977', name='part-00977', size=67108859, modificationTime=1437232556000),\n FileInfo(path='dbfs:/databricks-datasets/airlines/part-00978', name='part-00978', size=67108819, modificationTime=1437232573000),\n FileInfo(path='dbfs:/databricks-datasets/airlines/part-00979', name='part-00979', size=67108835, modificationTime=1437232591000),\n FileInfo(path='dbfs:/databricks-datasets/airlines/part-00980', name='part-00980', size=67108868, modificationTime=1437232609000),\n FileInfo(path='dbfs:/databricks-datasets/airlines/part-00981', name='part-00981', size=67108905, modificationTime=1437232614000),\n FileInfo(path='dbfs:/databricks-datasets/airlines/part-00982', name='part-00982', size=67108810, modificationTime=1437232621000),\n FileInfo(path='dbfs:/databricks-datasets/airlines/part-00983', name='part-00983', size=67108901, modificationTime=1437232629000),\n FileInfo(path='dbfs:/databricks-datasets/airlines/part-00984', name='part-00984', size=67108825, modificationTime=1437232637000),\n FileInfo(path='dbfs:/databricks-datasets/airlines/part-00985', name='part-00985', size=67108878, modificationTime=1437232646000),\n FileInfo(path='dbfs:/databricks-datasets/airlines/part-00986', name='part-00986', size=67108913, modificationTime=1437232652000),\n FileInfo(path='dbfs:/databricks-datasets/airlines/part-00987', name='part-00987', size=67108856, modificationTime=1437232661000),\n FileInfo(path='dbfs:/databricks-datasets/airlines/part-00988', name='part-00988', size=67108883, modificationTime=1437232669000),\n FileInfo(path='dbfs:/databricks-datasets/airlines/part-00989', name='part-00989', size=67108837, modificationTime=1437232677000),\n FileInfo(path='dbfs:/databricks-datasets/airlines/part-00990', name='part-00990', size=67108883, modificationTime=1437232682000),\n FileInfo(path='dbfs:/databricks-datasets/airlines/part-00991', name='part-00991', size=67108821, modificationTime=1437232689000),\n FileInfo(path='dbfs:/databricks-datasets/airlines/part-00992', name='part-00992', size=67108846, modificationTime=1437232697000),\n FileInfo(path='dbfs:/databricks-datasets/airlines/part-00993', name='part-00993', size=67108925, modificationTime=1437232705000),\n FileInfo(path='dbfs:/databricks-datasets/airlines/part-00994', name='part-00994', size=67108826, modificationTime=1437232714000),\n FileInfo(path='dbfs:/databricks-datasets/airlines/part-00995', name='part-00995', size=67108861, modificationTime=1437232720000),\n FileInfo(path='dbfs:/databricks-datasets/airlines/part-00996', name='part-00996', size=67108862, modificationTime=1437232728000),\n FileInfo(path='dbfs:/databricks-datasets/airlines/part-00997', name='part-00997', size=67108918, modificationTime=1437232736000),\n ...]"
     ]
    },
    {
     "output_type": "display_data",
     "data": {
      "text/html": [
       "<style scoped>\n  .ansiout {\n    display: block;\n    unicode-bidi: embed;\n    white-space: pre-wrap;\n    word-wrap: break-word;\n    word-break: break-all;\n    font-family: \"Source Code Pro\", \"Menlo\", monospace;;\n    font-size: 13px;\n    color: #555;\n    margin-left: 4px;\n    line-height: 19px;\n  }\n</style>"
      ]
     },
     "metadata": {
      "application/vnd.databricks.v1+output": {
       "arguments": {},
       "data": "",
       "errorSummary": "",
       "errorTraceType": null,
       "metadata": {},
       "type": "ipynbError"
      }
     },
     "output_type": "display_data"
    }
   ],
   "source": [
    "dbutils.fs.ls('/databricks-datasets/airlines/')"
   ]
  },
  {
   "cell_type": "markdown",
   "metadata": {
    "application/vnd.databricks.v1+cell": {
     "cellMetadata": {
      "byteLimit": 2048000,
      "rowLimit": 10000
     },
     "inputWidgets": {},
     "nuid": "81dea64a-e5f6-4356-991a-b9f80b8ab631",
     "showTitle": false,
     "title": ""
    }
   },
   "source": [
    "## Notes\n",
    "\n",
    "After you are done with the assignment, make sure:\n",
    "\n",
    "- Code is in running state and outputs are visible along with code\n",
    "- Don't print entire dataframes (use `display`, `df.show(n)`, or `df,take(n)` wherever possible)\n",
    "- Export as IPython Notebook\n",
    "- Export as HTML \n",
    "- Upload your work to the [Blackboard](https://saintpeters.blackboard.com/)\n",
    "\n",
    "For more information on exporting notebooks, see [Exporting a notebook from Databricks](https://learn.microsoft.com/en-us/azure/databricks/notebooks/notebook-export-import).\n",
    "\n",
    "Best of luck!"
   ]
  }
 ],
 "metadata": {
  "application/vnd.databricks.v1+notebook": {
   "dashboards": [],
   "language": "python",
   "notebookMetadata": {
    "pythonIndentUnit": 4
   },
   "notebookName": "spark_parts",
   "notebookOrigID": 2164022853743440,
   "widgets": {}
  }
 },
 "nbformat": 4,
 "nbformat_minor": 0
}

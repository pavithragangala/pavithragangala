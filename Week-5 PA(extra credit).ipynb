{
 "cells": [
  {
   "cell_type": "code",
   "execution_count": 1,
   "id": "71ec62e4-e27a-48e9-b7e3-25e4395be959",
   "metadata": {},
   "outputs": [
    {
     "name": "stdout",
     "output_type": "stream",
     "text": [
      "   X  Y  Z\n",
      "0  1  1  1\n",
      "1  1  1  0\n",
      "2  0  0  1\n",
      "3  1  0  0\n"
     ]
    }
   ],
   "source": [
    "import pandas as pd\n",
    "\n",
    "d = {'X':[1,1,0,1], 'Y':[1,1,0,0],'Z':[1,0,1,0]}\n",
    "\n",
    "df = pd.DataFrame(data=d)\n",
    "\n",
    "print(df)"
   ]
  },
  {
   "cell_type": "code",
   "execution_count": 2,
   "id": "2e7aebc3-158d-45ed-9deb-6311a3d0030e",
   "metadata": {},
   "outputs": [
    {
     "data": {
      "text/html": [
       "<div>\n",
       "<style scoped>\n",
       "    .dataframe tbody tr th:only-of-type {\n",
       "        vertical-align: middle;\n",
       "    }\n",
       "\n",
       "    .dataframe tbody tr th {\n",
       "        vertical-align: top;\n",
       "    }\n",
       "\n",
       "    .dataframe thead th {\n",
       "        text-align: right;\n",
       "    }\n",
       "</style>\n",
       "<table border=\"1\" class=\"dataframe\">\n",
       "  <thead>\n",
       "    <tr style=\"text-align: right;\">\n",
       "      <th></th>\n",
       "      <th>X</th>\n",
       "      <th>Y</th>\n",
       "      <th>Z</th>\n",
       "    </tr>\n",
       "  </thead>\n",
       "  <tbody>\n",
       "    <tr>\n",
       "      <th>0</th>\n",
       "      <td>1</td>\n",
       "      <td>1</td>\n",
       "      <td>1</td>\n",
       "    </tr>\n",
       "    <tr>\n",
       "      <th>1</th>\n",
       "      <td>1</td>\n",
       "      <td>1</td>\n",
       "      <td>0</td>\n",
       "    </tr>\n",
       "    <tr>\n",
       "      <th>2</th>\n",
       "      <td>0</td>\n",
       "      <td>0</td>\n",
       "      <td>1</td>\n",
       "    </tr>\n",
       "    <tr>\n",
       "      <th>3</th>\n",
       "      <td>1</td>\n",
       "      <td>0</td>\n",
       "      <td>0</td>\n",
       "    </tr>\n",
       "  </tbody>\n",
       "</table>\n",
       "</div>"
      ],
      "text/plain": [
       "   X  Y  Z\n",
       "0  1  1  1\n",
       "1  1  1  0\n",
       "2  0  0  1\n",
       "3  1  0  0"
      ]
     },
     "execution_count": 2,
     "metadata": {},
     "output_type": "execute_result"
    }
   ],
   "source": [
    "df=df.reset_index(drop=True)\n",
    "df"
   ]
  },
  {
   "cell_type": "code",
   "execution_count": 3,
   "id": "370f1f8f-9cbd-41ba-8c4e-9c39ec822558",
   "metadata": {},
   "outputs": [],
   "source": [
    "import numpy as np\n",
    "import seaborn as sns"
   ]
  },
  {
   "cell_type": "code",
   "execution_count": 6,
   "id": "b6288e73-decd-4c26-9b11-1a638d785e04",
   "metadata": {
    "tags": []
   },
   "outputs": [
    {
     "name": "stdout",
     "output_type": "stream",
     "text": [
      "X probability\n",
      "1    0.75\n",
      "0    0.25\n",
      "Name: X, dtype: float64\n",
      "X entropy:  0.8112781244591328\n",
      "X gini_index:  0.375\n",
      "X information gain:  1   -0.311278\n",
      "0   -0.500000\n",
      "Name: X, dtype: float64\n",
      "Y probability\n",
      "1    0.5\n",
      "0    0.5\n",
      "Name: Y, dtype: float64\n",
      "Y entropy:  1.0\n",
      "Y gini_index:  0.5\n",
      "Y information gain:  1   -0.5\n",
      "0   -0.5\n",
      "Name: Y, dtype: float64\n",
      "Z probability\n",
      "1    0.5\n",
      "0    0.5\n",
      "Name: Z, dtype: float64\n",
      "Z entropy:  1.0\n",
      "Z gini_index:  0.5\n",
      "Z information gain:  1   -0.5\n",
      "0   -0.5\n",
      "Name: Z, dtype: float64\n"
     ]
    }
   ],
   "source": [
    "probability_arr = []\n",
    "entropy_arr = []\n",
    "gini_arr = []\n",
    "info_arr = []\n",
    "for col in df:\n",
    "    probability = df[col].value_counts(normalize=True)\n",
    "    print(col, 'probability')\n",
    "    probability_arr . append(probability)\n",
    "    print (probability)\n",
    "    #Entropy = -(p(0) * log(P(0)) + p(1) * log(P(1)))\n",
    "    entropy = -1 * np. sum(np. log2(probability) * probability)\n",
    "    print(col, 'entropy: ',entropy)\n",
    "    entropy_arr . append(entropy)\n",
    "    #Gini impurity is calculated by subtracting the sum of the squared probability\n",
    "    gini_index = 1 - np. sum(np.square(probability))\n",
    "    print (col, 'gini_index: ', gini_index)\n",
    "    gini_arr . append (gini_index)\n",
    "    #Information gain is calculated by multiplying the probability of a class by \n",
    "    info_gain = np. log2(probability) * probability\n",
    "    print(col, 'information gain: ', info_gain)\n",
    "    info_arr . append(info_gain)"
   ]
  },
  {
   "cell_type": "code",
   "execution_count": null,
   "id": "a8441356-0fa5-472c-a3b0-70d0eba1c565",
   "metadata": {},
   "outputs": [],
   "source": [
    "Higher information gain = more entropy get removed(which we seek). \n",
    "Best way would be each branch would contain only 1 color after the split, which would be 0 entropy."
   ]
  }
 ],
 "metadata": {
  "kernelspec": {
   "display_name": "Python 3 (ipykernel)",
   "language": "python",
   "name": "python3"
  },
  "language_info": {
   "codemirror_mode": {
    "name": "ipython",
    "version": 3
   },
   "file_extension": ".py",
   "mimetype": "text/x-python",
   "name": "python",
   "nbconvert_exporter": "python",
   "pygments_lexer": "ipython3",
   "version": "3.9.7"
  }
 },
 "nbformat": 4,
 "nbformat_minor": 5
}
